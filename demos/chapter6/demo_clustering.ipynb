{
 "cells": [
  {
   "cell_type": "code",
   "execution_count": 1,
   "metadata": {},
   "outputs": [],
   "source": [
    "import numpy as np\n",
    "import matplotlib.pyplot as plt"
   ]
  },
  {
   "cell_type": "code",
   "execution_count": 32,
   "metadata": {},
   "outputs": [
    {
     "data": {
      "text/plain": [
       "array([[8.5366963 , 7.06110393],\n",
       "       [2.07001694, 2.8936537 ],\n",
       "       [3.22700221, 8.46557144],\n",
       "       [1.97034738, 7.26436967],\n",
       "       [2.03945004, 4.09137331],\n",
       "       [2.53783781, 7.12674699],\n",
       "       [2.85402357, 3.01296905],\n",
       "       [1.48797571, 4.57600882],\n",
       "       [4.61038367, 8.59699394]])"
      ]
     },
     "execution_count": 32,
     "metadata": {},
     "output_type": "execute_result"
    }
   ],
   "source": [
    "xyMax = 10\n",
    "data = np.random.uniform(xyMax, size=(9,2))\n",
    "data"
   ]
  },
  {
   "cell_type": "code",
   "execution_count": 33,
   "metadata": {},
   "outputs": [],
   "source": [
    "k = 3  # number of clusters\n",
    "numberOfIterations = 10\n",
    "\n",
    "# initial guess\n",
    "centers = np.random.uniform(xyMax, size=(k,2))  \n",
    "classification = np.zeros(len(data), dtype=np.int64)\n",
    "for iteration in range(numberOfIterations):\n",
    "    for j in range(len(data)):\n",
    "        distances = [np.linalg.norm(centers[i] - data[j], 2) for i in range(k)]\n",
    "        classification[j] = np.argmin(distances)\n",
    "\n",
    "    centers = [np.mean(data[classification == i], axis=0) for i in range(k)]"
   ]
  },
  {
   "cell_type": "code",
   "execution_count": 36,
   "metadata": {},
   "outputs": [
    {
     "data": {
      "text/plain": [
       "[array([2.11286656, 3.64350122]),\n",
       " array([3.08639277, 7.86342051]),\n",
       " array([8.5366963 , 7.06110393])]"
      ]
     },
     "execution_count": 36,
     "metadata": {},
     "output_type": "execute_result"
    }
   ],
   "source": [
    "centers"
   ]
  },
  {
   "cell_type": "code",
   "execution_count": 37,
   "metadata": {},
   "outputs": [
    {
     "data": {
      "text/plain": [
       "array([2, 0, 1, 1, 0, 1, 0, 0, 1])"
      ]
     },
     "execution_count": 37,
     "metadata": {},
     "output_type": "execute_result"
    }
   ],
   "source": [
    "classification"
   ]
  },
  {
   "cell_type": "code",
   "execution_count": 40,
   "metadata": {},
   "outputs": [
    {
     "data": {
      "text/plain": [
       "[<matplotlib.lines.Line2D at 0x7fb207eb2900>]"
      ]
     },
     "execution_count": 40,
     "metadata": {},
     "output_type": "execute_result"
    },
    {
     "data": {
      "image/png": "[encoded data removed]",
      "text/plain": [
       "<Figure size 640x480 with 1 Axes>"
      ]
     },
     "metadata": {},
     "output_type": "display_data"
    }
   ],
   "source": [
    "plt.plot(data[:,0], data[:,1], 'o')"
   ]
  },
  {
   "cell_type": "code",
   "execution_count": null,
   "metadata": {},
   "outputs": [],
   "source": []
  }
 ],
 "metadata": {
  "kernelspec": {
   "display_name": "jup2",
   "language": "python",
   "name": "python3"
  },
  "language_info": {
   "codemirror_mode": {
    "name": "ipython",
    "version": 3
   },
   "file_extension": ".py",
   "mimetype": "text/x-python",
   "name": "python",
   "nbconvert_exporter": "python",
   "pygments_lexer": "ipython3",
   "version": "3.12.2"
  }
 },
 "nbformat": 4,
 "nbformat_minor": 2
}
