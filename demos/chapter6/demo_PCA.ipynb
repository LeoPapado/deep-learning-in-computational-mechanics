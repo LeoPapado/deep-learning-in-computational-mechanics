{
 "cells": [
  {
   "cell_type": "markdown",
   "metadata": {},
   "source": [
    "# PCA Demo - Principal Component Analysis "
   ]
  },
  {
   "cell_type": "code",
   "execution_count": 4,
   "metadata": {},
   "outputs": [],
   "source": [
    "import numpy as np"
   ]
  },
  {
   "cell_type": "code",
   "execution_count": 5,
   "metadata": {},
   "outputs": [
    {
     "name": "stdout",
     "output_type": "stream",
     "text": [
      "[[ 1 -4 -2]\n",
      " [ 1  3 -5]\n",
      " [-2  1  7]] \n",
      "\n",
      "rank = 2\n",
      "\n",
      "A@A^T = [[ 21  -1 -20]\n",
      " [ -1  35 -34]\n",
      " [-20 -34  54]]\n"
     ]
    }
   ],
   "source": [
    "# A = np.array([[1,0, 2], [1, 3, .5], [0, 1, 7]])\n",
    "A = np.array([[1,-4, -2], [1, 3, -5], [-2, 1, 7]])\n",
    "# A = np.array([[9,-3, 1], [4, 0, 0], [0, 1, 0]])\n",
    "print(A, '\\n')\n",
    "print(f\"rank = {np.linalg.matrix_rank(A)}\\n\")\n",
    "\n",
    "print(f\"A@A^T = {A @ np.transpose(A)}\")"
   ]
  },
  {
   "cell_type": "code",
   "execution_count": 6,
   "metadata": {},
   "outputs": [
    {
     "name": "stdout",
     "output_type": "stream",
     "text": [
      "X = [[ 1 -4 -2]\n",
      " [ 1  3 -5]\n",
      " [-2  1  7]]\n",
      "Xbar = [[-1.66666667]\n",
      " [-0.33333333]\n",
      " [ 2.        ]]\n",
      "B = [[ 2.66666667 -2.33333333 -0.33333333]\n",
      " [ 1.33333333  3.33333333 -4.66666667]\n",
      " [-4.         -1.          5.        ]]\n"
     ]
    }
   ],
   "source": [
    "X = A\n",
    "print(f\"X = {X}\")\n",
    "\n",
    "# mean of each feature across all samples\n",
    "Xbar = np.mean(X, axis=1, keepdims=True) \n",
    "print(f\"Xbar = {Xbar}\")\n",
    "\n",
    "B = X - Xbar\n",
    "print(f\"B = {B}\")"
   ]
  },
  {
   "cell_type": "code",
   "execution_count": 7,
   "metadata": {},
   "outputs": [
    {
     "name": "stdout",
     "output_type": "stream",
     "text": [
      "principalValues = \n",
      "[7.11073760e+01 1.82259573e+01 2.43087903e-15]\n",
      "W = [[-0.49079864 -0.65252078  0.57735027]\n",
      " [-0.31970025  0.75130448  0.57735027]\n",
      " [ 0.81049889 -0.0987837   0.57735027]]\n"
     ]
    }
   ],
   "source": [
    "principalValues, W = np.linalg.eig(np.transpose(B) @ B)\n",
    "index = np.argsort(principalValues)[::-1]\n",
    "principalValues = principalValues[index]  # sort eigenvalues\n",
    "W = W[:, index]  # sort eigenvectors\n",
    "\n",
    "print(f\"principalValues = \\n{principalValues}\")\n",
    "print(f\"W = {W}\")"
   ]
  },
  {
   "cell_type": "code",
   "execution_count": 8,
   "metadata": {},
   "outputs": [
    {
     "name": "stdout",
     "output_type": "stream",
     "text": [
      "X = [[ 1 -4 -2]\n",
      " [ 1  3 -5]\n",
      " [-2  1  7]]\n",
      "Xbar = [[0. 0. 0.]]\n",
      "B = [[ 1. -4. -2.]\n",
      " [ 1.  3. -5.]\n",
      " [-2.  1.  7.]]\n"
     ]
    },
    {
     "data": {
      "text/plain": [
       "array([[ 1.,  0., -0.],\n",
       "       [ 0.,  1.,  0.],\n",
       "       [-0.,  0.,  1.]])"
      ]
     },
     "execution_count": 8,
     "metadata": {},
     "output_type": "execute_result"
    }
   ],
   "source": [
    "## I think this is right:\n",
    "X = A\n",
    "print(f\"X = {X}\")\n",
    "\n",
    "# mean of each feature across all samples\n",
    "Xbar = np.mean(X, axis=0, keepdims=True)     \n",
    "print(f\"Xbar = {Xbar}\")\n",
    "\n",
    "B = X - Xbar\n",
    "print(f\"B = {B}\")\n",
    "\n",
    "np.round(np.transpose(W) @ W, 5)"
   ]
  },
  {
   "cell_type": "code",
   "execution_count": 9,
   "metadata": {},
   "outputs": [
    {
     "name": "stdout",
     "output_type": "stream",
     "text": [
      "principalValues = \n",
      "[ 8.36879766e+01  2.63120234e+01 -6.66133815e-15]\n",
      "W = [[ 0.26141172  0.10335852 -0.95967751]\n",
      " [-0.01359443 -0.99375732 -0.11073202]\n",
      " [-0.96513165  0.04199292 -0.25837471]]\n"
     ]
    }
   ],
   "source": [
    "principalValues, W = np.linalg.eig(np.transpose(B) @ B)\n",
    "index = np.argsort(principalValues)[::-1]\n",
    "principalValues = principalValues[index]  # sort eigenvalues\n",
    "W = W[:, index]  # sort eigenvectors\n",
    "\n",
    "print(f\"principalValues = \\n{principalValues}\")\n",
    "print(f\"W = {W}\")"
   ]
  },
  {
   "cell_type": "code",
   "execution_count": 10,
   "metadata": {},
   "outputs": [
    {
     "data": {
      "text/plain": [
       "array([[ 1., -0.,  0.],\n",
       "       [-0.,  1.,  0.],\n",
       "       [ 0.,  0.,  1.]])"
      ]
     },
     "execution_count": 10,
     "metadata": {},
     "output_type": "execute_result"
    }
   ],
   "source": [
    "np.round(np.transpose(W) @ W, 5)"
   ]
  }
 ],
 "metadata": {
  "kernelspec": {
   "display_name": "Python 3",
   "language": "python",
   "name": "python3"
  },
  "language_info": {
   "codemirror_mode": {
    "name": "ipython",
    "version": 3
   },
   "file_extension": ".py",
   "mimetype": "text/x-python",
   "name": "python",
   "nbconvert_exporter": "python",
   "pygments_lexer": "ipython3",
   "version": "3.8.10"
  }
 },
 "nbformat": 4,
 "nbformat_minor": 2
}
