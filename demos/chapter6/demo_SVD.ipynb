{
 "cells": [
  {
   "cell_type": "code",
   "execution_count": 105,
   "metadata": {},
   "outputs": [],
   "source": [
    "import numpy as np"
   ]
  },
  {
   "cell_type": "code",
   "execution_count": 106,
   "metadata": {},
   "outputs": [
    {
     "name": "stdout",
     "output_type": "stream",
     "text": [
      "[[ 1 -4 -2]\n",
      " [ 1  3 -5]\n",
      " [-2  1  7]] \n",
      "\n",
      "rank = 2\n",
      "\n",
      "A@A^T = [[ 21  -1 -20]\n",
      " [ -1  35 -34]\n",
      " [-20 -34  54]]\n"
     ]
    }
   ],
   "source": [
    "# A = np.matrix([[1,0, 2], [1, 3, .5], [0, 1, 7]])\n",
    "A = np.matrix([[1,-4, -2], [1, 3, -5], [-2, 1, 7]])\n",
    "# A = np.matrix([[9,-3, 1], [4, 0, 0], [0, 1, 0]])\n",
    "print(A, '\\n')\n",
    "print(f\"rank = {np.linalg.matrix_rank(A)}\\n\")\n",
    "\n",
    "print(f\"A@A^T = {A @ np.transpose(A)}\")"
   ]
  },
  {
   "cell_type": "code",
   "execution_count": 107,
   "metadata": {},
   "outputs": [
    {
     "name": "stdout",
     "output_type": "stream",
     "text": [
      "U = \n",
      "[[-0.24552087  0.77870801 -0.57735027]\n",
      " [-0.55162048 -0.60198132 -0.57735027]\n",
      " [ 0.79714136 -0.17672669 -0.57735027]]\n",
      "eigenvalues = \n",
      "[83.68797658 26.31202342  0.        ]\n",
      "\n",
      "U sorted:\n",
      "[[-0.24552087  0.77870801 -0.57735027]\n",
      " [-0.55162048 -0.60198132 -0.57735027]\n",
      " [ 0.79714136 -0.17672669 -0.57735027]]\n",
      "eigenvalues = \n",
      "[83.68797658 26.31202342  0.        ]\n"
     ]
    }
   ],
   "source": [
    "\n",
    "eigenvaluesU, U = np.linalg.eig(A @ np.transpose(A))\n",
    "eigenvaluesU[np.abs(eigenvaluesU) < 1e-10] = 0.\n",
    "\n",
    "print(f\"U = \\n{U}\\neigenvalues = \\n{eigenvaluesU}\")\n",
    "index = np.argsort(eigenvaluesU)[::-1]\n",
    "eigenvaluesU = eigenvaluesU[index]  # sort eigenvalues\n",
    "U = U[:, index]                     # sort eigenvectors\n",
    "\n",
    "print(f\"\\nU sorted:\\n{U}\")\n",
    "print(f\"eigenvalues = \\n{eigenvaluesU}\")"
   ]
  },
  {
   "cell_type": "code",
   "execution_count": 118,
   "metadata": {},
   "outputs": [
    {
     "name": "stdout",
     "output_type": "stream",
     "text": [
      "\n",
      "V sorted:\n",
      "[[ 0.26141172  0.10335852 -0.95967751]\n",
      " [-0.01359443 -0.99375732 -0.11073202]\n",
      " [-0.96513165  0.04199292 -0.25837471]]\n",
      "Eigenvalues:\n",
      "[ 8.36879766e+01  2.63120234e+01 -6.66133815e-15]\n"
     ]
    }
   ],
   "source": [
    "eigenvaluesV, V = np.linalg.eig(np.transpose(A) @ A)\n",
    "# eigenvaluesV[np.abs(eigenvaluesV) < 1e-10] = 0.\n",
    "\n",
    "index = np.argsort(eigenvaluesV)[::-1]\n",
    "eigenvaluesV = eigenvaluesV[index]  # sort eigenvalues\n",
    "V = V[:, index]  # sort eigenvectors  \n",
    "\n",
    "print(f\"\\nV sorted:\\n{V}\")\n",
    "print(f\"Eigenvalues:\\n{eigenvaluesV}\")"
   ]
  },
  {
   "cell_type": "code",
   "execution_count": 109,
   "metadata": {},
   "outputs": [],
   "source": [
    "S = np.zeros((len(U), len(V)))\n",
    "for i in range(min(len(U), len(V))):\n",
    "    S[i, i] = np.sqrt(eigenvaluesU[i]) \n",
    "\n",
    "# correction to make U and V consistent\n",
    "SCorrected = np.transpose(U) @ A @ V\n",
    "for i in range(min(len(U), len(V))):\n",
    "    V[:, i] = V[:, i] * np.sign(SCorrected[i, i])"
   ]
  },
  {
   "cell_type": "code",
   "execution_count": 110,
   "metadata": {},
   "outputs": [
    {
     "name": "stdout",
     "output_type": "stream",
     "text": [
      "S:\n",
      "[[9.14811328 0.         0.        ]\n",
      " [0.         5.12952468 0.        ]\n",
      " [0.         0.         0.        ]] \n",
      "Scorrected, zeroed:\n",
      "[[-9.14811328  0.          0.        ]\n",
      " [ 0.          5.12952468  0.        ]\n",
      " [ 0.          0.          0.        ]]\n"
     ]
    }
   ],
   "source": [
    "sZeroed = SCorrected \n",
    "sZeroed[np.abs(sZeroed) < 1e-10 ] = 0\n",
    "print(f\"S:\\n{S} \\nScorrected, zeroed:\\n{sZeroed}\")"
   ]
  },
  {
   "cell_type": "code",
   "execution_count": 111,
   "metadata": {},
   "outputs": [
    {
     "data": {
      "text/plain": [
       "array([[ 1., -4., -2.],\n",
       "       [ 1.,  3., -5.],\n",
       "       [-2.,  1.,  7.]])"
      ]
     },
     "execution_count": 111,
     "metadata": {},
     "output_type": "execute_result"
    }
   ],
   "source": [
    "np.round(U*S*np.transpose(V), 6)"
   ]
  },
  {
   "cell_type": "code",
   "execution_count": 112,
   "metadata": {},
   "outputs": [
    {
     "name": "stdout",
     "output_type": "stream",
     "text": [
      "error less than 1e-10: True\n"
     ]
    }
   ],
   "source": [
    "error = A - U*S*np.transpose(V)\n",
    "print(f\"error less than 1e-10: {np.allclose(error, np.zeros_like(error), 1e-10)}\")"
   ]
  }
 ],
 "metadata": {
  "kernelspec": {
   "display_name": "jup2",
   "language": "python",
   "name": "python3"
  },
  "language_info": {
   "codemirror_mode": {
    "name": "ipython",
    "version": 3
   },
   "file_extension": ".py",
   "mimetype": "text/x-python",
   "name": "python",
   "nbconvert_exporter": "python",
   "pygments_lexer": "ipython3",
   "version": "3.12.2"
  }
 },
 "nbformat": 4,
 "nbformat_minor": 2
}
