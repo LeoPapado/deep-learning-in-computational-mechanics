{
 "cells": [
  {
   "cell_type": "markdown",
   "metadata": {},
   "source": [
    "# Exercise 27 Solution - Autoencoder"
   ]
  },
  {
   "cell_type": "markdown",
   "metadata": {},
   "source": [
    "### Task\n",
    "Train an autoencoder (on a dataset composed of circles) and apply it to the task of anomaly detection (using a dataset composed of circles and squares)\n",
    "- Generate a normal and anomalous dataset (modify the data generation parameters if needed)\n",
    "- Train the autoencoder on only the normal dataset (modify the neural network and training parameters if needed)\n",
    "- Apply the autoencoder to the anomolous dataset and compare the reconstruction with reconstructions obtained with normal data\n",
    "- Improve the autoencoder through the denoising autoencoder extension (corrupt the training data and modify the loss function)\n",
    "\n",
    "### Learning goals\n",
    "- Understand the autoencoder architecture and its training\n",
    "- Familiarize yourself with the autoencoder implementation\n",
    "- Use an autoencoder for anomaly detection"
   ]
  },
  {
   "cell_type": "code",
   "execution_count": 1,
   "metadata": {},
   "outputs": [],
   "source": [
    "import numpy as np\n",
    "import torch\n",
    "from torch.utils.data import Dataset, DataLoader\n",
    "import matplotlib.pyplot as plt\n",
    "import time\n",
    "from torchsummary import summary"
   ]
  },
  {
   "cell_type": "code",
   "execution_count": 2,
   "metadata": {},
   "outputs": [
    {
     "data": {
      "text/plain": [
       "<torch._C.Generator at 0x7f485c7beb90>"
      ]
     },
     "execution_count": 2,
     "metadata": {},
     "output_type": "execute_result"
    }
   ],
   "source": [
    "device = torch.device('cuda' if torch.cuda.is_available() else 'cpu')\n",
    "torch.manual_seed(2)"
   ]
  },
  {
   "cell_type": "markdown",
   "metadata": {},
   "source": [
    "# Hyperparameters"
   ]
  },
  {
   "cell_type": "markdown",
   "metadata": {},
   "source": [
    "**data generation parameters**"
   ]
  },
  {
   "cell_type": "code",
   "execution_count": 3,
   "metadata": {},
   "outputs": [],
   "source": [
    "N = 128\n",
    "domainLength = 1\n",
    "numberOfCircles = 5\n",
    "radius = 0.1\n",
    "\n",
    "numberOfSamples = 20  #200\n",
    "numberOfAnomolousSamples = 128"
   ]
  },
  {
   "cell_type": "markdown",
   "metadata": {},
   "source": [
    "**neural network parameters**"
   ]
  },
  {
   "cell_type": "code",
   "execution_count": 4,
   "metadata": {},
   "outputs": [],
   "source": [
    "depth = 4\n",
    "numberOfFilters = 3\n",
    "convolutionalLayers = 2"
   ]
  },
  {
   "cell_type": "markdown",
   "metadata": {},
   "source": [
    "**training parameters**"
   ]
  },
  {
   "cell_type": "code",
   "execution_count": 5,
   "metadata": {},
   "outputs": [],
   "source": [
    "epochs = 200\n",
    "lr = 5e-3\n",
    "batchSize = 64\n",
    "regularization = 1e-4"
   ]
  },
  {
   "cell_type": "markdown",
   "metadata": {},
   "source": [
    "## Data generation"
   ]
  },
  {
   "cell_type": "markdown",
   "metadata": {},
   "source": [
    "**helper functions to generated normal and anomolous data**"
   ]
  },
  {
   "cell_type": "code",
   "execution_count": 6,
   "metadata": {},
   "outputs": [],
   "source": [
    "def generateNonOverlappingCirclesInDomain(N, domainLength, numberOfCircles, radius):\n",
    "    domain = np.ones((N, N))\n",
    "    x = np.linspace(0, domainLength, N)\n",
    "    y = np.linspace(0, domainLength, N)\n",
    "    x, y = np.meshgrid(x, y)\n",
    "\n",
    "    for i in range(numberOfCircles):\n",
    "        overlap = True\n",
    "        while overlap == True:\n",
    "            xc = np.random.uniform(radius, domainLength - radius)\n",
    "            yc = np.random.uniform(radius, domainLength - radius)\n",
    "\n",
    "            mask = (x - xc) ** 2 + (y - yc) ** 2 < radius ** 2\n",
    "            if ~np.any(domain[mask] == -1):\n",
    "                overlap = False\n",
    "        domain[mask] = -1\n",
    "    return domain\n",
    "\n",
    "\n",
    "def generateAnomolousDataInDomain(N, domainLength, numberOfCircles, radius, numberOfSquares):\n",
    "    domain = np.ones((N, N))\n",
    "    x = np.linspace(0, domainLength, N)\n",
    "    y = np.linspace(0, domainLength, N)\n",
    "    x, y = np.meshgrid(x, y)\n",
    "\n",
    "    for i in range(numberOfCircles):\n",
    "        overlap = True\n",
    "        while overlap == True:\n",
    "            xc = np.random.uniform(radius, domainLength - radius)\n",
    "            yc = np.random.uniform(radius, domainLength - radius)\n",
    "\n",
    "            if i >= numberOfSquares:\n",
    "                mask = (x - xc) ** 2 + (y - yc) ** 2 < radius ** 2\n",
    "            else:\n",
    "                mask = x > xc - radius\n",
    "                mask *= x < xc + radius\n",
    "                mask *= y > yc - radius\n",
    "                mask *= y < yc + radius\n",
    "            if ~np.any(domain[mask] == -1):\n",
    "                overlap = False\n",
    "        domain[mask] = -1\n",
    "    return domain"
   ]
  },
  {
   "cell_type": "markdown",
   "metadata": {},
   "source": [
    "**data generation**"
   ]
  },
  {
   "cell_type": "code",
   "execution_count": 7,
   "metadata": {},
   "outputs": [
    {
     "data": {
      "image/png": "[encoded data removed]",
      "text/plain": [
       "<Figure size 720x216 with 6 Axes>"
      ]
     },
     "metadata": {
      "needs_background": "light"
     },
     "output_type": "display_data"
    }
   ],
   "source": [
    "normalSamples = torch.zeros((numberOfSamples, 1, N, N))\n",
    "for i in range(numberOfSamples):\n",
    "    normalSamples[i, 0] = torch.from_numpy(\n",
    "        generateNonOverlappingCirclesInDomain(N, domainLength, numberOfCircles, radius)).to(torch.float32)\n",
    "torch.save(normalSamples, \"data/normalData.pt\")\n",
    "\n",
    "sampleList = []\n",
    "anomalySamples = torch.zeros((numberOfSamples, 1, N, N))\n",
    "for j in range(0, numberOfCircles + 1):  # 0 is not anomalous\n",
    "    anomalySamples = torch.zeros((numberOfAnomolousSamples, 1, N, N))\n",
    "    for i in range(numberOfAnomolousSamples):\n",
    "        anomalySamples[i, 0] = torch.from_numpy(\n",
    "            generateAnomolousDataInDomain(N, domainLength, numberOfCircles, radius, j)).to(torch.float32)\n",
    "    torch.save(anomalySamples, \"data/anomalyData\" + str(j) + \".pt\")\n",
    "    sampleList.append(anomalySamples)\n",
    "\n",
    "fig, ax = plt.subplots(1, 6, figsize=(10, 3))\n",
    "for i in range(6):\n",
    "    ax[i].imshow(sampleList[i][0, 0], origin='lower', cmap='jet')\n",
    "    ax[i].axis('off')\n",
    "plt.show()"
   ]
  },
  {
   "cell_type": "markdown",
   "metadata": {},
   "source": [
    "## Dataset definition"
   ]
  },
  {
   "cell_type": "markdown",
   "metadata": {},
   "source": [
    "**load generated data into PyTorch dataset**"
   ]
  },
  {
   "cell_type": "code",
   "execution_count": 8,
   "metadata": {},
   "outputs": [],
   "source": [
    "class normalDataset(Dataset):\n",
    "    def __init__(self):\n",
    "        self.data = torch.load(\"data/normalData.pt\", weights_only=False)\n",
    "\n",
    "    def __len__(self):\n",
    "        return len(self.data)\n",
    "\n",
    "    def __getitem__(self, idx):\n",
    "        return self.data[idx]\n",
    "\n",
    "\n",
    "class anomalyDataset(Dataset):\n",
    "    def __init__(self, degree):\n",
    "        self.data = torch.load(\"data/anomalyData\" + str(degree) + \".pt\", weights_only=False)\n",
    "\n",
    "    def __len__(self):\n",
    "        return len(self.data)\n",
    "\n",
    "    def __getitem__(self, idx):\n",
    "        return self.data[idx]"
   ]
  },
  {
   "cell_type": "markdown",
   "metadata": {},
   "source": [
    "## Autoencoder architecture definition"
   ]
  },
  {
   "cell_type": "code",
   "execution_count": 9,
   "metadata": {},
   "outputs": [],
   "source": [
    "class autoencoder(torch.nn.Module):\n",
    "    def __init__(self, depth, numberOfFilters, convolutionalLayers, bottleneckConvolutions=True):\n",
    "        super().__init__()\n",
    "\n",
    "        self.depth = depth\n",
    "        self.convolutionalLayers = convolutionalLayers\n",
    "        self.bottleneckConvolutions = bottleneckConvolutions\n",
    "\n",
    "        FilterSizes = np.linspace(-1, depth - 1, depth + 1, dtype=np.int32)\n",
    "        FilterSizes[1:] = 2 ** FilterSizes[1:] * numberOfFilters\n",
    "        FilterSizes[0] = 1\n",
    "\n",
    "        self.convDown = torch.nn.ModuleList()\n",
    "        self.batchNormDown = torch.nn.ModuleList()\n",
    "        self.activationDown = torch.nn.ModuleList()\n",
    "        self.downsample = torch.nn.ModuleList()\n",
    "\n",
    "        self.convBottleneck = torch.nn.ModuleList()\n",
    "        self.batchNormBottleneck = torch.nn.ModuleList()\n",
    "        self.activationBottleneck = torch.nn.ModuleList()\n",
    "\n",
    "        self.convUp = torch.nn.ModuleList()\n",
    "        self.batchNormUp = torch.nn.ModuleList()\n",
    "        self.activationUp = torch.nn.ModuleList()\n",
    "        self.upsample = torch.nn.ModuleList()\n",
    "\n",
    "        for i in range(depth):\n",
    "            # downsampling\n",
    "            for j in range(convolutionalLayers):\n",
    "                if j == 0:\n",
    "                    self.convDown.append(torch.nn.Conv2d(FilterSizes[i], FilterSizes[i + 1], kernel_size=3, stride=1,\n",
    "                                                         padding=1))  # ADD SECOND LAYER\n",
    "                else:\n",
    "                    self.convDown.append(\n",
    "                        torch.nn.Conv2d(FilterSizes[i + 1], FilterSizes[i + 1], kernel_size=3, stride=1,\n",
    "                                        padding=1))  # ADD SECOND LAYER\n",
    "                self.batchNormDown.append(torch.nn.BatchNorm2d(FilterSizes[i + 1]))\n",
    "                self.activationDown.append(torch.nn.PReLU(init=0.2))\n",
    "                self.downsample.append(torch.nn.MaxPool2d(kernel_size=2, stride=2))\n",
    "\n",
    "                # layers at bottleneck\n",
    "            for j in range(convolutionalLayers):\n",
    "                self.convBottleneck.append(\n",
    "                    torch.nn.Conv2d(FilterSizes[-1], FilterSizes[-1], kernel_size=3, stride=1, padding=1))\n",
    "                self.batchNormBottleneck.append(torch.nn.BatchNorm2d(FilterSizes[-1]))\n",
    "                self.activationBottleneck.append(torch.nn.PReLU(init=0.2))\n",
    "\n",
    "            # upsampling\n",
    "            for j in range(convolutionalLayers):\n",
    "                if j == 0:\n",
    "                    self.convUp.append(\n",
    "                        torch.nn.Conv2d(FilterSizes[-i - 1], FilterSizes[-i - 2], kernel_size=3, stride=1, padding=1))\n",
    "                else:\n",
    "                    self.convUp.append(\n",
    "                        torch.nn.Conv2d(FilterSizes[-i - 2], FilterSizes[-i - 2], kernel_size=3, stride=1, padding=1))\n",
    "                self.batchNormUp.append(torch.nn.BatchNorm2d(FilterSizes[-i - 2]))\n",
    "                self.activationUp.append(torch.nn.PReLU(init=0.2))\n",
    "            self.upsample.append(torch.nn.Upsample(scale_factor=2,\n",
    "                                                   mode='nearest'))  # nearest instead of bilinear as field is not continuous\n",
    "\n",
    "    def forward(self, x):\n",
    "        y = x\n",
    "\n",
    "        # downsampling        \n",
    "        for i in range(self.depth):\n",
    "            for j in range(self.convolutionalLayers):\n",
    "                y = self.activationDown[i * self.convolutionalLayers + j](\n",
    "                    self.batchNormDown[i * self.convolutionalLayers + j](\n",
    "                        self.convDown[i * self.convolutionalLayers + j](y)))\n",
    "            y = self.downsample[i](y)\n",
    "\n",
    "        # bottleneck\n",
    "        if self.bottleneckConvolutions == True:\n",
    "            for j in range(self.convolutionalLayers):\n",
    "                y = self.activationBottleneck[j](self.batchNormBottleneck[j](self.convBottleneck[j](y)))\n",
    "\n",
    "        # upsampling\n",
    "        for i in range(self.depth):\n",
    "            y = self.upsample[i](y)\n",
    "            for j in range(self.convolutionalLayers):\n",
    "                y = self.activationUp[i * self.convolutionalLayers + j](\n",
    "                    self.batchNormUp[i * self.convolutionalLayers + j](\n",
    "                        self.convUp[i * self.convolutionalLayers + j](y)))\n",
    "\n",
    "        return y"
   ]
  },
  {
   "cell_type": "markdown",
   "metadata": {},
   "source": [
    "## Training"
   ]
  },
  {
   "cell_type": "markdown",
   "metadata": {},
   "source": [
    "**data preparation including training/validation split**"
   ]
  },
  {
   "cell_type": "code",
   "execution_count": 10,
   "metadata": {},
   "outputs": [],
   "source": [
    "dataset = normalDataset()\n",
    "datasetTraining, datasetValidation = torch.utils.data.dataset.random_split(dataset, [0.9, 0.1])\n",
    "dataloaderTraining = DataLoader(datasetTraining, batch_size=batchSize, shuffle=True)\n",
    "dataloaderValidation = DataLoader(datasetValidation, batch_size=10000, shuffle=False)  # all samples"
   ]
  },
  {
   "cell_type": "markdown",
   "metadata": {},
   "source": [
    "**neural network instantiation**"
   ]
  },
  {
   "cell_type": "code",
   "execution_count": 11,
   "metadata": {},
   "outputs": [
    {
     "name": "stdout",
     "output_type": "stream",
     "text": [
      "----------------------------------------------------------------\n",
      "        Layer (type)               Output Shape         Param #\n",
      "================================================================\n",
      "            Conv2d-1          [-1, 3, 128, 128]              30\n",
      "       BatchNorm2d-2          [-1, 3, 128, 128]               6\n",
      "             PReLU-3          [-1, 3, 128, 128]               1\n",
      "            Conv2d-4          [-1, 3, 128, 128]              84\n",
      "       BatchNorm2d-5          [-1, 3, 128, 128]               6\n",
      "             PReLU-6          [-1, 3, 128, 128]               1\n",
      "         MaxPool2d-7            [-1, 3, 64, 64]               0\n",
      "            Conv2d-8            [-1, 6, 64, 64]             168\n",
      "       BatchNorm2d-9            [-1, 6, 64, 64]              12\n",
      "            PReLU-10            [-1, 6, 64, 64]               1\n",
      "           Conv2d-11            [-1, 6, 64, 64]             330\n",
      "      BatchNorm2d-12            [-1, 6, 64, 64]              12\n",
      "            PReLU-13            [-1, 6, 64, 64]               1\n",
      "        MaxPool2d-14            [-1, 6, 32, 32]               0\n",
      "           Conv2d-15           [-1, 12, 32, 32]             660\n",
      "      BatchNorm2d-16           [-1, 12, 32, 32]              24\n",
      "            PReLU-17           [-1, 12, 32, 32]               1\n",
      "           Conv2d-18           [-1, 12, 32, 32]           1,308\n",
      "      BatchNorm2d-19           [-1, 12, 32, 32]              24\n",
      "            PReLU-20           [-1, 12, 32, 32]               1\n",
      "        MaxPool2d-21           [-1, 12, 16, 16]               0\n",
      "           Conv2d-22           [-1, 24, 16, 16]           2,616\n",
      "      BatchNorm2d-23           [-1, 24, 16, 16]              48\n",
      "            PReLU-24           [-1, 24, 16, 16]               1\n",
      "           Conv2d-25           [-1, 24, 16, 16]           5,208\n",
      "      BatchNorm2d-26           [-1, 24, 16, 16]              48\n",
      "            PReLU-27           [-1, 24, 16, 16]               1\n",
      "        MaxPool2d-28             [-1, 24, 8, 8]               0\n",
      "           Conv2d-29             [-1, 24, 8, 8]           5,208\n",
      "      BatchNorm2d-30             [-1, 24, 8, 8]              48\n",
      "            PReLU-31             [-1, 24, 8, 8]               1\n",
      "           Conv2d-32             [-1, 24, 8, 8]           5,208\n",
      "      BatchNorm2d-33             [-1, 24, 8, 8]              48\n",
      "            PReLU-34             [-1, 24, 8, 8]               1\n",
      "         Upsample-35           [-1, 24, 16, 16]               0\n",
      "           Conv2d-36           [-1, 12, 16, 16]           2,604\n",
      "      BatchNorm2d-37           [-1, 12, 16, 16]              24\n",
      "            PReLU-38           [-1, 12, 16, 16]               1\n",
      "           Conv2d-39           [-1, 12, 16, 16]           1,308\n",
      "      BatchNorm2d-40           [-1, 12, 16, 16]              24\n",
      "            PReLU-41           [-1, 12, 16, 16]               1\n",
      "         Upsample-42           [-1, 12, 32, 32]               0\n",
      "           Conv2d-43            [-1, 6, 32, 32]             654\n",
      "      BatchNorm2d-44            [-1, 6, 32, 32]              12\n",
      "            PReLU-45            [-1, 6, 32, 32]               1\n",
      "           Conv2d-46            [-1, 6, 32, 32]             330\n",
      "      BatchNorm2d-47            [-1, 6, 32, 32]              12\n",
      "            PReLU-48            [-1, 6, 32, 32]               1\n",
      "         Upsample-49            [-1, 6, 64, 64]               0\n",
      "           Conv2d-50            [-1, 3, 64, 64]             165\n",
      "      BatchNorm2d-51            [-1, 3, 64, 64]               6\n",
      "            PReLU-52            [-1, 3, 64, 64]               1\n",
      "           Conv2d-53            [-1, 3, 64, 64]              84\n",
      "      BatchNorm2d-54            [-1, 3, 64, 64]               6\n",
      "            PReLU-55            [-1, 3, 64, 64]               1\n",
      "         Upsample-56          [-1, 3, 128, 128]               0\n",
      "           Conv2d-57          [-1, 1, 128, 128]              28\n",
      "      BatchNorm2d-58          [-1, 1, 128, 128]               2\n",
      "            PReLU-59          [-1, 1, 128, 128]               1\n",
      "           Conv2d-60          [-1, 1, 128, 128]              10\n",
      "      BatchNorm2d-61          [-1, 1, 128, 128]               2\n",
      "            PReLU-62          [-1, 1, 128, 128]               1\n",
      "================================================================\n",
      "Total params: 26,385\n",
      "Trainable params: 26,385\n",
      "Non-trainable params: 0\n",
      "----------------------------------------------------------------\n",
      "Input size (MB): 0.06\n",
      "Forward/backward pass size (MB): 6.90\n",
      "Params size (MB): 0.10\n",
      "Estimated Total Size (MB): 7.07\n",
      "----------------------------------------------------------------\n",
      "achieved reduction in bottleneck: 0.06\n"
     ]
    }
   ],
   "source": [
    "model = autoencoder(depth, numberOfFilters, convolutionalLayers, bottleneckConvolutions=True)\n",
    "summary(model, (1, 128, 128))\n",
    "print(\"achieved reduction in bottleneck: {:.2f}\".format(\n",
    "    (numberOfFilters * (depth + 1) * (128 / 2 ** depth) ** 2) / 128 ** 2))"
   ]
  },
  {
   "cell_type": "markdown",
   "metadata": {},
   "source": [
    "**optimizer and history**"
   ]
  },
  {
   "cell_type": "code",
   "execution_count": 12,
   "metadata": {},
   "outputs": [],
   "source": [
    "optimizer = torch.optim.Adam(model.parameters(), lr=lr, weight_decay=regularization)\n",
    "\n",
    "costHistoryTrain = np.zeros(epochs)\n",
    "costHistoryValidation = np.zeros(epochs)"
   ]
  },
  {
   "cell_type": "markdown",
   "metadata": {},
   "source": [
    "**training loop**"
   ]
  },
  {
   "cell_type": "code",
   "execution_count": 13,
   "metadata": {},
   "outputs": [
    {
     "name": "stdout",
     "output_type": "stream",
     "text": [
      "Epoch: 0/199\t\tCost function (Train): 1.053E+00\t\tCost function (Validation): 1.043E+00\n",
      "Elapsed time: 0.134208\n",
      "Epoch: 1/199\t\tCost function (Train): 9.238E-01\t\tCost function (Validation): 1.034E+00\n",
      "Elapsed time: 0.117249\n",
      "Epoch: 2/199\t\tCost function (Train): 5.624E-01\t\tCost function (Validation): 1.024E+00\n",
      "Elapsed time: 0.142163\n",
      "Epoch: 3/199\t\tCost function (Train): 4.687E-01\t\tCost function (Validation): 1.015E+00\n",
      "Elapsed time: 0.115845\n",
      "Epoch: 4/199\t\tCost function (Train): 4.287E-01\t\tCost function (Validation): 1.006E+00\n",
      "Elapsed time: 0.119867\n",
      "Epoch: 5/199\t\tCost function (Train): 4.040E-01\t\tCost function (Validation): 9.837E-01\n",
      "Elapsed time: 0.115146\n",
      "Epoch: 6/199\t\tCost function (Train): 3.859E-01\t\tCost function (Validation): 9.336E-01\n",
      "Elapsed time: 0.096037\n",
      "Epoch: 7/199\t\tCost function (Train): 3.773E-01\t\tCost function (Validation): 8.852E-01\n",
      "Elapsed time: 0.101828\n",
      "Epoch: 8/199\t\tCost function (Train): 3.676E-01\t\tCost function (Validation): 8.388E-01\n",
      "Elapsed time: 0.112850\n",
      "Epoch: 9/199\t\tCost function (Train): 3.561E-01\t\tCost function (Validation): 7.950E-01\n",
      "Elapsed time: 0.124914\n",
      "Epoch: 10/199\t\tCost function (Train): 3.495E-01\t\tCost function (Validation): 7.543E-01\n",
      "Elapsed time: 0.114719\n",
      "Epoch: 11/199\t\tCost function (Train): 3.418E-01\t\tCost function (Validation): 7.171E-01\n",
      "Elapsed time: 0.130316\n",
      "Epoch: 12/199\t\tCost function (Train): 3.325E-01\t\tCost function (Validation): 6.836E-01\n",
      "Elapsed time: 0.142762\n",
      "Epoch: 13/199\t\tCost function (Train): 3.261E-01\t\tCost function (Validation): 6.539E-01\n",
      "Elapsed time: 0.110410\n",
      "Epoch: 14/199\t\tCost function (Train): 3.196E-01\t\tCost function (Validation): 6.280E-01\n",
      "Elapsed time: 0.114090\n",
      "Epoch: 15/199\t\tCost function (Train): 3.117E-01\t\tCost function (Validation): 6.058E-01\n",
      "Elapsed time: 0.125322\n",
      "Epoch: 16/199\t\tCost function (Train): 3.047E-01\t\tCost function (Validation): 5.873E-01\n",
      "Elapsed time: 0.095596\n",
      "Epoch: 17/199\t\tCost function (Train): 2.992E-01\t\tCost function (Validation): 5.721E-01\n",
      "Elapsed time: 0.118698\n",
      "Epoch: 18/199\t\tCost function (Train): 2.928E-01\t\tCost function (Validation): 5.598E-01\n",
      "Elapsed time: 0.109604\n",
      "Epoch: 19/199\t\tCost function (Train): 2.855E-01\t\tCost function (Validation): 5.499E-01\n",
      "Elapsed time: 0.093421\n",
      "Epoch: 20/199\t\tCost function (Train): 2.790E-01\t\tCost function (Validation): 5.422E-01\n",
      "Elapsed time: 0.097018\n",
      "Epoch: 21/199\t\tCost function (Train): 2.729E-01\t\tCost function (Validation): 5.361E-01\n",
      "Elapsed time: 0.099837\n",
      "Epoch: 22/199\t\tCost function (Train): 2.660E-01\t\tCost function (Validation): 5.315E-01\n",
      "Elapsed time: 0.105752\n",
      "Epoch: 23/199\t\tCost function (Train): 2.595E-01\t\tCost function (Validation): 5.278E-01\n",
      "Elapsed time: 0.116257\n",
      "Epoch: 24/199\t\tCost function (Train): 2.534E-01\t\tCost function (Validation): 5.230E-01\n",
      "Elapsed time: 0.097922\n",
      "Epoch: 25/199\t\tCost function (Train): 2.466E-01\t\tCost function (Validation): 5.001E-01\n",
      "Elapsed time: 0.095264\n",
      "Epoch: 26/199\t\tCost function (Train): 2.400E-01\t\tCost function (Validation): 4.330E-01\n",
      "Elapsed time: 0.125021\n",
      "Epoch: 27/199\t\tCost function (Train): 2.337E-01\t\tCost function (Validation): 3.507E-01\n",
      "Elapsed time: 0.106089\n",
      "Epoch: 28/199\t\tCost function (Train): 2.270E-01\t\tCost function (Validation): 2.876E-01\n",
      "Elapsed time: 0.104815\n",
      "Epoch: 29/199\t\tCost function (Train): 2.207E-01\t\tCost function (Validation): 2.447E-01\n",
      "Elapsed time: 0.105630\n",
      "Epoch: 30/199\t\tCost function (Train): 2.145E-01\t\tCost function (Validation): 2.175E-01\n",
      "Elapsed time: 0.128248\n",
      "Epoch: 31/199\t\tCost function (Train): 2.079E-01\t\tCost function (Validation): 2.011E-01\n",
      "Elapsed time: 0.113071\n",
      "Epoch: 32/199\t\tCost function (Train): 2.020E-01\t\tCost function (Validation): 1.886E-01\n",
      "Elapsed time: 0.126686\n",
      "Epoch: 33/199\t\tCost function (Train): 1.959E-01\t\tCost function (Validation): 1.778E-01\n",
      "Elapsed time: 0.117501\n",
      "Epoch: 34/199\t\tCost function (Train): 1.898E-01\t\tCost function (Validation): 1.716E-01\n",
      "Elapsed time: 0.095306\n",
      "Epoch: 35/199\t\tCost function (Train): 1.841E-01\t\tCost function (Validation): 1.685E-01\n",
      "Elapsed time: 0.158871\n",
      "Epoch: 36/199\t\tCost function (Train): 1.782E-01\t\tCost function (Validation): 1.662E-01\n",
      "Elapsed time: 0.109038\n",
      "Epoch: 37/199\t\tCost function (Train): 1.726E-01\t\tCost function (Validation): 1.617E-01\n",
      "Elapsed time: 0.128161\n",
      "Epoch: 38/199\t\tCost function (Train): 1.669E-01\t\tCost function (Validation): 1.570E-01\n",
      "Elapsed time: 0.169814\n",
      "Epoch: 39/199\t\tCost function (Train): 1.615E-01\t\tCost function (Validation): 1.550E-01\n",
      "Elapsed time: 0.128674\n",
      "Epoch: 40/199\t\tCost function (Train): 1.560E-01\t\tCost function (Validation): 1.543E-01\n",
      "Elapsed time: 0.111438\n",
      "Epoch: 41/199\t\tCost function (Train): 1.507E-01\t\tCost function (Validation): 1.526E-01\n",
      "Elapsed time: 0.109816\n",
      "Epoch: 42/199\t\tCost function (Train): 1.453E-01\t\tCost function (Validation): 1.518E-01\n",
      "Elapsed time: 0.096092\n",
      "Epoch: 43/199\t\tCost function (Train): 1.402E-01\t\tCost function (Validation): 1.534E-01\n",
      "Elapsed time: 0.132321\n",
      "Epoch: 44/199\t\tCost function (Train): 1.352E-01\t\tCost function (Validation): 1.536E-01\n",
      "Elapsed time: 0.137145\n",
      "Epoch: 45/199\t\tCost function (Train): 1.302E-01\t\tCost function (Validation): 1.540E-01\n",
      "Elapsed time: 0.165015\n",
      "Epoch: 46/199\t\tCost function (Train): 1.256E-01\t\tCost function (Validation): 1.566E-01\n",
      "Elapsed time: 0.173088\n",
      "Epoch: 47/199\t\tCost function (Train): 1.209E-01\t\tCost function (Validation): 1.576E-01\n",
      "Elapsed time: 0.185284\n",
      "Epoch: 48/199\t\tCost function (Train): 1.164E-01\t\tCost function (Validation): 1.588E-01\n",
      "Elapsed time: 0.199005\n",
      "Epoch: 49/199\t\tCost function (Train): 1.123E-01\t\tCost function (Validation): 1.622E-01\n",
      "Elapsed time: 0.152694\n",
      "Epoch: 50/199\t\tCost function (Train): 1.084E-01\t\tCost function (Validation): 1.617E-01\n",
      "Elapsed time: 0.166061\n",
      "Epoch: 51/199\t\tCost function (Train): 1.045E-01\t\tCost function (Validation): 1.638E-01\n",
      "Elapsed time: 0.162217\n",
      "Epoch: 52/199\t\tCost function (Train): 1.007E-01\t\tCost function (Validation): 1.624E-01\n",
      "Elapsed time: 0.181064\n",
      "Epoch: 53/199\t\tCost function (Train): 9.706E-02\t\tCost function (Validation): 1.603E-01\n",
      "Elapsed time: 0.188619\n",
      "Epoch: 54/199\t\tCost function (Train): 9.343E-02\t\tCost function (Validation): 1.561E-01\n",
      "Elapsed time: 0.193021\n",
      "Epoch: 55/199\t\tCost function (Train): 8.989E-02\t\tCost function (Validation): 1.524E-01\n",
      "Elapsed time: 0.184460\n",
      "Epoch: 56/199\t\tCost function (Train): 8.657E-02\t\tCost function (Validation): 1.466E-01\n",
      "Elapsed time: 0.248027\n",
      "Epoch: 57/199\t\tCost function (Train): 8.379E-02\t\tCost function (Validation): 1.488E-01\n",
      "Elapsed time: 0.216151\n",
      "Epoch: 58/199\t\tCost function (Train): 8.334E-02\t\tCost function (Validation): 1.393E-01\n",
      "Elapsed time: 0.197803\n",
      "Epoch: 59/199\t\tCost function (Train): 9.218E-02\t\tCost function (Validation): 1.625E-01\n",
      "Elapsed time: 0.234994\n",
      "Epoch: 60/199\t\tCost function (Train): 1.156E-01\t\tCost function (Validation): 1.177E-01\n",
      "Elapsed time: 0.225239\n",
      "Epoch: 61/199\t\tCost function (Train): 8.576E-02\t\tCost function (Validation): 1.117E-01\n",
      "Elapsed time: 0.273655\n",
      "Epoch: 62/199\t\tCost function (Train): 7.830E-02\t\tCost function (Validation): 1.156E-01\n",
      "Elapsed time: 0.257270\n",
      "Epoch: 63/199\t\tCost function (Train): 8.543E-02\t\tCost function (Validation): 1.042E-01\n",
      "Elapsed time: 0.195809\n",
      "Epoch: 64/199\t\tCost function (Train): 6.917E-02\t\tCost function (Validation): 1.081E-01\n",
      "Elapsed time: 0.281886\n",
      "Epoch: 65/199\t\tCost function (Train): 7.909E-02\t\tCost function (Validation): 9.933E-02\n",
      "Elapsed time: 0.240920\n",
      "Epoch: 66/199\t\tCost function (Train): 6.491E-02\t\tCost function (Validation): 1.040E-01\n",
      "Elapsed time: 0.270915\n",
      "Epoch: 67/199\t\tCost function (Train): 7.186E-02\t\tCost function (Validation): 1.031E-01\n",
      "Elapsed time: 0.231348\n",
      "Epoch: 68/199\t\tCost function (Train): 6.288E-02\t\tCost function (Validation): 1.046E-01\n",
      "Elapsed time: 0.163793\n",
      "Epoch: 69/199\t\tCost function (Train): 6.365E-02\t\tCost function (Validation): 1.067E-01\n",
      "Elapsed time: 0.183647\n",
      "Epoch: 70/199\t\tCost function (Train): 6.259E-02\t\tCost function (Validation): 1.052E-01\n",
      "Elapsed time: 0.175309\n",
      "Epoch: 71/199\t\tCost function (Train): 5.561E-02\t\tCost function (Validation): 1.085E-01\n",
      "Elapsed time: 0.221772\n",
      "Epoch: 72/199\t\tCost function (Train): 6.036E-02\t\tCost function (Validation): 1.055E-01\n",
      "Elapsed time: 0.282071\n",
      "Epoch: 73/199\t\tCost function (Train): 5.225E-02\t\tCost function (Validation): 1.049E-01\n",
      "Elapsed time: 0.192050\n",
      "Epoch: 74/199\t\tCost function (Train): 5.647E-02\t\tCost function (Validation): 1.004E-01\n",
      "Elapsed time: 0.181935\n",
      "Epoch: 75/199\t\tCost function (Train): 4.984E-02\t\tCost function (Validation): 1.011E-01\n",
      "Elapsed time: 0.180351\n"
     ]
    },
    {
     "name": "stdout",
     "output_type": "stream",
     "text": [
      "Epoch: 76/199\t\tCost function (Train): 5.127E-02\t\tCost function (Validation): 9.619E-02\n",
      "Elapsed time: 0.210663\n",
      "Epoch: 77/199\t\tCost function (Train): 4.981E-02\t\tCost function (Validation): 9.186E-02\n",
      "Elapsed time: 0.197005\n",
      "Epoch: 78/199\t\tCost function (Train): 4.613E-02\t\tCost function (Validation): 9.315E-02\n",
      "Elapsed time: 0.203641\n",
      "Epoch: 79/199\t\tCost function (Train): 4.780E-02\t\tCost function (Validation): 8.894E-02\n",
      "Elapsed time: 0.184731\n",
      "Epoch: 80/199\t\tCost function (Train): 4.325E-02\t\tCost function (Validation): 8.864E-02\n",
      "Elapsed time: 0.198906\n",
      "Epoch: 81/199\t\tCost function (Train): 4.567E-02\t\tCost function (Validation): 8.739E-02\n",
      "Elapsed time: 0.215848\n",
      "Epoch: 82/199\t\tCost function (Train): 4.157E-02\t\tCost function (Validation): 8.819E-02\n",
      "Elapsed time: 0.242773\n",
      "Epoch: 83/199\t\tCost function (Train): 4.202E-02\t\tCost function (Validation): 8.606E-02\n",
      "Elapsed time: 0.194519\n",
      "Epoch: 84/199\t\tCost function (Train): 4.157E-02\t\tCost function (Validation): 8.471E-02\n",
      "Elapsed time: 0.197481\n",
      "Epoch: 85/199\t\tCost function (Train): 3.888E-02\t\tCost function (Validation): 8.768E-02\n",
      "Elapsed time: 0.230422\n",
      "Epoch: 86/199\t\tCost function (Train): 4.025E-02\t\tCost function (Validation): 8.354E-02\n",
      "Elapsed time: 0.192631\n",
      "Epoch: 87/199\t\tCost function (Train): 3.707E-02\t\tCost function (Validation): 8.335E-02\n",
      "Elapsed time: 0.199742\n",
      "Epoch: 88/199\t\tCost function (Train): 3.766E-02\t\tCost function (Validation): 8.455E-02\n",
      "Elapsed time: 0.193709\n",
      "Epoch: 89/199\t\tCost function (Train): 3.706E-02\t\tCost function (Validation): 8.322E-02\n",
      "Elapsed time: 0.185689\n",
      "Epoch: 90/199\t\tCost function (Train): 3.494E-02\t\tCost function (Validation): 8.408E-02\n",
      "Elapsed time: 0.213262\n",
      "Epoch: 91/199\t\tCost function (Train): 3.598E-02\t\tCost function (Validation): 8.404E-02\n",
      "Elapsed time: 0.189859\n",
      "Epoch: 92/199\t\tCost function (Train): 3.446E-02\t\tCost function (Validation): 8.535E-02\n",
      "Elapsed time: 0.206358\n",
      "Epoch: 93/199\t\tCost function (Train): 3.447E-02\t\tCost function (Validation): 8.741E-02\n",
      "Elapsed time: 0.204091\n",
      "Epoch: 94/199\t\tCost function (Train): 3.606E-02\t\tCost function (Validation): 8.975E-02\n",
      "Elapsed time: 0.195815\n",
      "Epoch: 95/199\t\tCost function (Train): 3.655E-02\t\tCost function (Validation): 8.843E-02\n",
      "Elapsed time: 0.207663\n",
      "Epoch: 96/199\t\tCost function (Train): 3.861E-02\t\tCost function (Validation): 9.073E-02\n",
      "Elapsed time: 0.197036\n",
      "Epoch: 97/199\t\tCost function (Train): 4.090E-02\t\tCost function (Validation): 8.178E-02\n",
      "Elapsed time: 0.189122\n",
      "Epoch: 98/199\t\tCost function (Train): 3.417E-02\t\tCost function (Validation): 7.912E-02\n",
      "Elapsed time: 0.209838\n",
      "Epoch: 99/199\t\tCost function (Train): 3.108E-02\t\tCost function (Validation): 8.245E-02\n",
      "Elapsed time: 0.261216\n",
      "Epoch: 100/199\t\tCost function (Train): 3.338E-02\t\tCost function (Validation): 8.133E-02\n",
      "Elapsed time: 0.227095\n",
      "Epoch: 101/199\t\tCost function (Train): 3.268E-02\t\tCost function (Validation): 7.908E-02\n",
      "Elapsed time: 0.160174\n",
      "Epoch: 102/199\t\tCost function (Train): 3.022E-02\t\tCost function (Validation): 7.894E-02\n",
      "Elapsed time: 0.183343\n",
      "Epoch: 103/199\t\tCost function (Train): 2.982E-02\t\tCost function (Validation): 8.074E-02\n",
      "Elapsed time: 0.188311\n",
      "Epoch: 104/199\t\tCost function (Train): 3.082E-02\t\tCost function (Validation): 8.218E-02\n",
      "Elapsed time: 0.212890\n",
      "Epoch: 105/199\t\tCost function (Train): 2.968E-02\t\tCost function (Validation): 8.033E-02\n",
      "Elapsed time: 0.214733\n",
      "Epoch: 106/199\t\tCost function (Train): 2.811E-02\t\tCost function (Validation): 8.155E-02\n",
      "Elapsed time: 0.229652\n",
      "Epoch: 107/199\t\tCost function (Train): 2.842E-02\t\tCost function (Validation): 8.497E-02\n",
      "Elapsed time: 0.186245\n",
      "Epoch: 108/199\t\tCost function (Train): 2.903E-02\t\tCost function (Validation): 8.415E-02\n",
      "Elapsed time: 0.193997\n",
      "Epoch: 109/199\t\tCost function (Train): 2.812E-02\t\tCost function (Validation): 8.411E-02\n",
      "Elapsed time: 0.182724\n",
      "Epoch: 110/199\t\tCost function (Train): 2.677E-02\t\tCost function (Validation): 8.500E-02\n",
      "Elapsed time: 0.186450\n",
      "Epoch: 111/199\t\tCost function (Train): 2.682E-02\t\tCost function (Validation): 8.588E-02\n",
      "Elapsed time: 0.163127\n",
      "Epoch: 112/199\t\tCost function (Train): 2.741E-02\t\tCost function (Validation): 8.618E-02\n",
      "Elapsed time: 0.179979\n",
      "Epoch: 113/199\t\tCost function (Train): 2.699E-02\t\tCost function (Validation): 8.540E-02\n",
      "Elapsed time: 0.196735\n",
      "Epoch: 114/199\t\tCost function (Train): 2.611E-02\t\tCost function (Validation): 8.586E-02\n",
      "Elapsed time: 0.190575\n",
      "Epoch: 115/199\t\tCost function (Train): 2.585E-02\t\tCost function (Validation): 8.719E-02\n",
      "Elapsed time: 0.181961\n",
      "Epoch: 116/199\t\tCost function (Train): 2.610E-02\t\tCost function (Validation): 8.725E-02\n",
      "Elapsed time: 0.178883\n",
      "Epoch: 117/199\t\tCost function (Train): 2.590E-02\t\tCost function (Validation): 8.649E-02\n",
      "Elapsed time: 0.167779\n",
      "Epoch: 118/199\t\tCost function (Train): 2.505E-02\t\tCost function (Validation): 8.820E-02\n",
      "Elapsed time: 0.190627\n",
      "Epoch: 119/199\t\tCost function (Train): 2.472E-02\t\tCost function (Validation): 9.082E-02\n",
      "Elapsed time: 0.166618\n",
      "Epoch: 120/199\t\tCost function (Train): 2.537E-02\t\tCost function (Validation): 9.418E-02\n",
      "Elapsed time: 0.176252\n",
      "Epoch: 121/199\t\tCost function (Train): 2.679E-02\t\tCost function (Validation): 9.551E-02\n",
      "Elapsed time: 0.177426\n",
      "Epoch: 122/199\t\tCost function (Train): 3.010E-02\t\tCost function (Validation): 9.774E-02\n",
      "Elapsed time: 0.170735\n",
      "Epoch: 123/199\t\tCost function (Train): 3.230E-02\t\tCost function (Validation): 9.112E-02\n",
      "Elapsed time: 0.191213\n",
      "Epoch: 124/199\t\tCost function (Train): 3.167E-02\t\tCost function (Validation): 8.729E-02\n",
      "Elapsed time: 0.208540\n",
      "Epoch: 125/199\t\tCost function (Train): 2.772E-02\t\tCost function (Validation): 8.510E-02\n",
      "Elapsed time: 0.189892\n",
      "Epoch: 126/199\t\tCost function (Train): 2.520E-02\t\tCost function (Validation): 8.362E-02\n",
      "Elapsed time: 0.168833\n",
      "Epoch: 127/199\t\tCost function (Train): 2.738E-02\t\tCost function (Validation): 8.463E-02\n",
      "Elapsed time: 0.174320\n",
      "Epoch: 128/199\t\tCost function (Train): 2.905E-02\t\tCost function (Validation): 8.167E-02\n",
      "Elapsed time: 0.180912\n",
      "Epoch: 129/199\t\tCost function (Train): 2.828E-02\t\tCost function (Validation): 8.396E-02\n",
      "Elapsed time: 0.172214\n",
      "Epoch: 130/199\t\tCost function (Train): 2.806E-02\t\tCost function (Validation): 8.662E-02\n",
      "Elapsed time: 0.173648\n",
      "Epoch: 131/199\t\tCost function (Train): 2.553E-02\t\tCost function (Validation): 8.588E-02\n",
      "Elapsed time: 0.167252\n",
      "Epoch: 132/199\t\tCost function (Train): 2.422E-02\t\tCost function (Validation): 8.886E-02\n",
      "Elapsed time: 0.176339\n",
      "Epoch: 133/199\t\tCost function (Train): 2.525E-02\t\tCost function (Validation): 8.953E-02\n",
      "Elapsed time: 0.169041\n",
      "Epoch: 134/199\t\tCost function (Train): 2.982E-02\t\tCost function (Validation): 9.053E-02\n",
      "Elapsed time: 0.177867\n",
      "Epoch: 135/199\t\tCost function (Train): 3.589E-02\t\tCost function (Validation): 8.392E-02\n",
      "Elapsed time: 0.162908\n",
      "Epoch: 136/199\t\tCost function (Train): 2.604E-02\t\tCost function (Validation): 8.218E-02\n",
      "Elapsed time: 0.191886\n",
      "Epoch: 137/199\t\tCost function (Train): 2.445E-02\t\tCost function (Validation): 8.993E-02\n",
      "Elapsed time: 0.174981\n",
      "Epoch: 138/199\t\tCost function (Train): 3.174E-02\t\tCost function (Validation): 8.408E-02\n",
      "Elapsed time: 0.207066\n",
      "Epoch: 139/199\t\tCost function (Train): 2.747E-02\t\tCost function (Validation): 7.956E-02\n",
      "Elapsed time: 0.221460\n",
      "Epoch: 140/199\t\tCost function (Train): 2.363E-02\t\tCost function (Validation): 7.732E-02\n",
      "Elapsed time: 0.185425\n",
      "Epoch: 141/199\t\tCost function (Train): 2.513E-02\t\tCost function (Validation): 7.827E-02\n",
      "Elapsed time: 0.202719\n",
      "Epoch: 142/199\t\tCost function (Train): 2.396E-02\t\tCost function (Validation): 7.721E-02\n",
      "Elapsed time: 0.177965\n",
      "Epoch: 143/199\t\tCost function (Train): 2.271E-02\t\tCost function (Validation): 8.199E-02\n",
      "Elapsed time: 0.188012\n",
      "Epoch: 144/199\t\tCost function (Train): 2.289E-02\t\tCost function (Validation): 8.577E-02\n",
      "Elapsed time: 0.188497\n",
      "Epoch: 145/199\t\tCost function (Train): 2.325E-02\t\tCost function (Validation): 8.164E-02\n",
      "Elapsed time: 0.187814\n",
      "Epoch: 146/199\t\tCost function (Train): 2.481E-02\t\tCost function (Validation): 8.341E-02\n",
      "Elapsed time: 0.215239\n",
      "Epoch: 147/199\t\tCost function (Train): 2.312E-02\t\tCost function (Validation): 8.201E-02\n",
      "Elapsed time: 0.188736\n",
      "Epoch: 148/199\t\tCost function (Train): 2.204E-02\t\tCost function (Validation): 8.656E-02\n",
      "Elapsed time: 0.183494\n",
      "Epoch: 149/199\t\tCost function (Train): 2.198E-02\t\tCost function (Validation): 8.330E-02\n",
      "Elapsed time: 0.169458\n",
      "Epoch: 150/199\t\tCost function (Train): 2.211E-02\t\tCost function (Validation): 7.998E-02\n",
      "Elapsed time: 0.235300\n"
     ]
    },
    {
     "name": "stdout",
     "output_type": "stream",
     "text": [
      "Epoch: 151/199\t\tCost function (Train): 2.246E-02\t\tCost function (Validation): 8.098E-02\n",
      "Elapsed time: 0.222671\n",
      "Epoch: 152/199\t\tCost function (Train): 2.089E-02\t\tCost function (Validation): 8.644E-02\n",
      "Elapsed time: 0.212956\n",
      "Epoch: 153/199\t\tCost function (Train): 2.119E-02\t\tCost function (Validation): 9.533E-02\n",
      "Elapsed time: 0.230752\n",
      "Epoch: 154/199\t\tCost function (Train): 2.499E-02\t\tCost function (Validation): 9.026E-02\n",
      "Elapsed time: 0.240990\n",
      "Epoch: 155/199\t\tCost function (Train): 2.886E-02\t\tCost function (Validation): 8.923E-02\n",
      "Elapsed time: 0.246531\n",
      "Epoch: 156/199\t\tCost function (Train): 3.187E-02\t\tCost function (Validation): 8.083E-02\n",
      "Elapsed time: 0.247158\n",
      "Epoch: 157/199\t\tCost function (Train): 2.786E-02\t\tCost function (Validation): 8.619E-02\n",
      "Elapsed time: 0.233340\n",
      "Epoch: 158/199\t\tCost function (Train): 2.715E-02\t\tCost function (Validation): 8.625E-02\n",
      "Elapsed time: 0.225302\n",
      "Epoch: 159/199\t\tCost function (Train): 3.446E-02\t\tCost function (Validation): 7.691E-02\n",
      "Elapsed time: 0.225308\n",
      "Epoch: 160/199\t\tCost function (Train): 2.328E-02\t\tCost function (Validation): 8.723E-02\n",
      "Elapsed time: 0.248027\n",
      "Epoch: 161/199\t\tCost function (Train): 2.951E-02\t\tCost function (Validation): 8.962E-02\n",
      "Elapsed time: 0.232778\n",
      "Epoch: 162/199\t\tCost function (Train): 3.600E-02\t\tCost function (Validation): 7.283E-02\n",
      "Elapsed time: 0.220833\n",
      "Epoch: 163/199\t\tCost function (Train): 2.072E-02\t\tCost function (Validation): 8.709E-02\n",
      "Elapsed time: 0.167137\n",
      "Epoch: 164/199\t\tCost function (Train): 3.624E-02\t\tCost function (Validation): 9.567E-02\n",
      "Elapsed time: 0.176396\n",
      "Epoch: 165/199\t\tCost function (Train): 4.283E-02\t\tCost function (Validation): 7.365E-02\n",
      "Elapsed time: 0.167008\n",
      "Epoch: 166/199\t\tCost function (Train): 2.310E-02\t\tCost function (Validation): 1.029E-01\n",
      "Elapsed time: 0.169818\n",
      "Epoch: 167/199\t\tCost function (Train): 5.055E-02\t\tCost function (Validation): 7.914E-02\n",
      "Elapsed time: 0.175878\n",
      "Epoch: 168/199\t\tCost function (Train): 2.733E-02\t\tCost function (Validation): 9.111E-02\n",
      "Elapsed time: 0.167559\n",
      "Epoch: 169/199\t\tCost function (Train): 3.690E-02\t\tCost function (Validation): 8.609E-02\n",
      "Elapsed time: 0.172204\n",
      "Epoch: 170/199\t\tCost function (Train): 2.658E-02\t\tCost function (Validation): 8.976E-02\n",
      "Elapsed time: 0.182413\n",
      "Epoch: 171/199\t\tCost function (Train): 3.157E-02\t\tCost function (Validation): 8.546E-02\n",
      "Elapsed time: 0.173010\n",
      "Epoch: 172/199\t\tCost function (Train): 3.087E-02\t\tCost function (Validation): 8.071E-02\n",
      "Elapsed time: 0.203791\n",
      "Epoch: 173/199\t\tCost function (Train): 2.909E-02\t\tCost function (Validation): 7.961E-02\n",
      "Elapsed time: 0.188196\n",
      "Epoch: 174/199\t\tCost function (Train): 2.818E-02\t\tCost function (Validation): 7.578E-02\n",
      "Elapsed time: 0.214824\n",
      "Epoch: 175/199\t\tCost function (Train): 2.387E-02\t\tCost function (Validation): 7.727E-02\n",
      "Elapsed time: 0.228856\n",
      "Epoch: 176/199\t\tCost function (Train): 2.762E-02\t\tCost function (Validation): 7.286E-02\n",
      "Elapsed time: 0.207739\n",
      "Epoch: 177/199\t\tCost function (Train): 2.334E-02\t\tCost function (Validation): 7.703E-02\n",
      "Elapsed time: 0.203099\n",
      "Epoch: 178/199\t\tCost function (Train): 2.645E-02\t\tCost function (Validation): 7.081E-02\n",
      "Elapsed time: 0.194783\n",
      "Epoch: 179/199\t\tCost function (Train): 2.019E-02\t\tCost function (Validation): 7.418E-02\n",
      "Elapsed time: 0.222406\n",
      "Epoch: 180/199\t\tCost function (Train): 2.408E-02\t\tCost function (Validation): 7.024E-02\n",
      "Elapsed time: 0.179247\n",
      "Epoch: 181/199\t\tCost function (Train): 1.977E-02\t\tCost function (Validation): 7.532E-02\n",
      "Elapsed time: 0.183994\n",
      "Epoch: 182/199\t\tCost function (Train): 2.402E-02\t\tCost function (Validation): 7.021E-02\n",
      "Elapsed time: 0.183273\n",
      "Epoch: 183/199\t\tCost function (Train): 1.956E-02\t\tCost function (Validation): 7.247E-02\n",
      "Elapsed time: 0.193110\n",
      "Epoch: 184/199\t\tCost function (Train): 2.223E-02\t\tCost function (Validation): 7.156E-02\n",
      "Elapsed time: 0.175438\n",
      "Epoch: 185/199\t\tCost function (Train): 1.949E-02\t\tCost function (Validation): 7.401E-02\n",
      "Elapsed time: 0.198931\n",
      "Epoch: 186/199\t\tCost function (Train): 2.176E-02\t\tCost function (Validation): 7.179E-02\n",
      "Elapsed time: 0.245742\n",
      "Epoch: 187/199\t\tCost function (Train): 1.980E-02\t\tCost function (Validation): 7.248E-02\n",
      "Elapsed time: 0.249251\n",
      "Epoch: 188/199\t\tCost function (Train): 2.051E-02\t\tCost function (Validation): 7.520E-02\n",
      "Elapsed time: 0.225573\n",
      "Epoch: 189/199\t\tCost function (Train): 2.009E-02\t\tCost function (Validation): 7.639E-02\n",
      "Elapsed time: 0.225755\n",
      "Epoch: 190/199\t\tCost function (Train): 1.951E-02\t\tCost function (Validation): 7.852E-02\n",
      "Elapsed time: 0.228265\n",
      "Epoch: 191/199\t\tCost function (Train): 2.061E-02\t\tCost function (Validation): 7.652E-02\n",
      "Elapsed time: 0.213842\n",
      "Epoch: 192/199\t\tCost function (Train): 1.981E-02\t\tCost function (Validation): 7.686E-02\n",
      "Elapsed time: 0.191864\n",
      "Epoch: 193/199\t\tCost function (Train): 2.105E-02\t\tCost function (Validation): 7.483E-02\n",
      "Elapsed time: 0.182643\n",
      "Epoch: 194/199\t\tCost function (Train): 2.079E-02\t\tCost function (Validation): 7.829E-02\n",
      "Elapsed time: 0.166350\n",
      "Epoch: 195/199\t\tCost function (Train): 2.131E-02\t\tCost function (Validation): 7.841E-02\n",
      "Elapsed time: 0.174351\n",
      "Epoch: 196/199\t\tCost function (Train): 2.074E-02\t\tCost function (Validation): 7.873E-02\n",
      "Elapsed time: 0.174734\n",
      "Epoch: 197/199\t\tCost function (Train): 1.907E-02\t\tCost function (Validation): 7.747E-02\n",
      "Elapsed time: 0.181422\n",
      "Epoch: 198/199\t\tCost function (Train): 1.851E-02\t\tCost function (Validation): 7.797E-02\n",
      "Elapsed time: 0.172192\n",
      "Epoch: 199/199\t\tCost function (Train): 1.850E-02\t\tCost function (Validation): 8.407E-02\n",
      "Elapsed time: 0.169351\n",
      "Total elapsed time: 36.069512\n",
      "best epoch: 182\n"
     ]
    },
    {
     "data": {
      "text/plain": [
       "<All keys matched successfully>"
      ]
     },
     "execution_count": 13,
     "metadata": {},
     "output_type": "execute_result"
    }
   ],
   "source": [
    "start = time.perf_counter()\n",
    "start0 = start\n",
    "bestCost = 1e10\n",
    "\n",
    "for epoch in range(epochs):\n",
    "\n",
    "    model.train()\n",
    "    for batch, sample in enumerate(dataloaderTraining):\n",
    "        optimizer.zero_grad(set_to_none=True)\n",
    "\n",
    "        cost = torch.sum((model(sample) - sample) ** 2) / len(sample) / 128 ** 2\n",
    "        costHistoryTrain[epoch] += cost.detach().cpu()\n",
    "\n",
    "        cost.backward()\n",
    "\n",
    "        optimizer.step()\n",
    "\n",
    "        del sample\n",
    "    costHistoryTrain[epoch] /= (batch + 1)\n",
    "\n",
    "    model.eval()\n",
    "    sample = next(iter(dataloaderValidation))\n",
    "    cost = torch.sum((model(sample.detach()) - sample) ** 2) / len(sample) / 128 ** 2\n",
    "    costHistoryValidation[epoch] = cost.detach().cpu()\n",
    "\n",
    "    if (epoch % 1 == 0):\n",
    "        elapsed_time = time.perf_counter() - start\n",
    "        string = \"Epoch: {}/{}\\t\\tCost function (Train): {:.3E}\\t\\tCost function (Validation): {:.3E}\\nElapsed time: {:2f}\"\n",
    "        print(string.format(epoch, epochs - 1, costHistoryTrain[epoch], costHistoryValidation[epoch], elapsed_time))\n",
    "        start = time.perf_counter()\n",
    "\n",
    "    # early stopping\n",
    "    if bestCost > costHistoryValidation[epoch]:\n",
    "        bestCost = costHistoryValidation[epoch]\n",
    "        torch.save(model.state_dict(), \"model\")\n",
    "        bestEpoch = epoch\n",
    "\n",
    "print(\"Total elapsed time: {:2f}\".format(time.perf_counter() - start0))\n",
    "print(\"best epoch: {:d}\".format(bestEpoch))\n",
    "model.load_state_dict(torch.load(\"model\", map_location=device, weights_only=False))  # early stopping\n"
   ]
  },
  {
   "cell_type": "markdown",
   "metadata": {},
   "source": [
    "## Post-processing"
   ]
  },
  {
   "cell_type": "code",
   "execution_count": 14,
   "metadata": {},
   "outputs": [
    {
     "name": "stdout",
     "output_type": "stream",
     "text": [
      "validation cost: 7.02e-02 training cost: 1.85e-02\n"
     ]
    }
   ],
   "source": [
    "model.eval()\n",
    "print(\"validation cost: {:.2e} training cost: {:.2e}\".format(np.min(costHistoryValidation), np.min(costHistoryTrain)))"
   ]
  },
  {
   "cell_type": "markdown",
   "metadata": {},
   "source": [
    "**training history**"
   ]
  },
  {
   "cell_type": "code",
   "execution_count": 15,
   "metadata": {},
   "outputs": [
    {
     "data": {
      "image/png": "[encoded data removed]",
      "text/plain": [
       "<Figure size 432x288 with 1 Axes>"
      ]
     },
     "metadata": {
      "needs_background": "light"
     },
     "output_type": "display_data"
    }
   ],
   "source": [
    "fig, ax = plt.subplots()\n",
    "ax.grid()\n",
    "ax.plot(costHistoryTrain, 'k')\n",
    "ax.plot(costHistoryValidation, 'r')\n",
    "ax.set_yscale('log')\n",
    "plt.show()"
   ]
  },
  {
   "cell_type": "markdown",
   "metadata": {},
   "source": [
    "**prediction of normal training sample**"
   ]
  },
  {
   "cell_type": "code",
   "execution_count": 16,
   "metadata": {},
   "outputs": [
    {
     "data": {
      "image/png": "[encoded data removed]",
      "text/plain": [
       "<Figure size 432x288 with 3 Axes>"
      ]
     },
     "metadata": {
      "needs_background": "light"
     },
     "output_type": "display_data"
    }
   ],
   "source": [
    "sample = next(iter(dataloaderTraining))\n",
    "index = 0\n",
    "fig, ax = plt.subplots(1, 3)\n",
    "ax[0].imshow(sample[index, 0].detach().cpu(), origin='lower', vmin=0, vmax=1, cmap='jet')\n",
    "ax[1].imshow(model(sample)[index, 0].detach().cpu(), origin='lower', vmin=0, vmax=1, cmap='jet')\n",
    "ax[2].imshow((sample[index, 0].detach() - model(sample)[index, 0].detach().cpu()) ** 2, origin='lower', cmap='jet')\n",
    "for i in range(3):\n",
    "    ax[i].axis('off')\n",
    "plt.show()"
   ]
  },
  {
   "cell_type": "markdown",
   "metadata": {},
   "source": [
    "**prediction of normal validation sample**"
   ]
  },
  {
   "cell_type": "code",
   "execution_count": 17,
   "metadata": {},
   "outputs": [
    {
     "data": {
      "image/png": "[encoded data removed]",
      "text/plain": [
       "<Figure size 432x288 with 3 Axes>"
      ]
     },
     "metadata": {
      "needs_background": "light"
     },
     "output_type": "display_data"
    }
   ],
   "source": [
    "sample = next(iter(dataloaderValidation))\n",
    "index = 0\n",
    "fig, ax = plt.subplots(1, 3)\n",
    "ax[0].imshow(sample[index, 0].detach().cpu(), origin='lower', vmin=0, vmax=1, cmap='jet')\n",
    "ax[1].imshow(model(sample)[index, 0].detach().cpu(), origin='lower', vmin=0, vmax=1, cmap='jet')\n",
    "ax[2].imshow((sample[index, 0].detach() - model(sample)[index, 0].detach().cpu()) ** 2, origin='lower', cmap='jet')\n",
    "for i in range(3):\n",
    "    ax[i].axis('off')\n",
    "plt.show()"
   ]
  },
  {
   "cell_type": "markdown",
   "metadata": {},
   "source": [
    "**prediction of anomolous (previously unseen & out of distribution) data**"
   ]
  },
  {
   "cell_type": "code",
   "execution_count": 18,
   "metadata": {},
   "outputs": [
    {
     "name": "stdout",
     "output_type": "stream",
     "text": [
      "128\n"
     ]
    },
    {
     "data": {
      "image/png": "[encoded data removed]",
      "text/plain": [
       "<Figure size 432x288 with 3 Axes>"
      ]
     },
     "metadata": {
      "needs_background": "light"
     },
     "output_type": "display_data"
    }
   ],
   "source": [
    "# change degree to choose number of squares\n",
    "anomaly_dataset = anomalyDataset(degree=1)\n",
    "print(len(anomaly_dataset))\n",
    "anomalyPrediction = model(anomaly_dataset.data)\n",
    "\n",
    "index = 0\n",
    "fig, ax = plt.subplots(1, 3)\n",
    "ax[0].imshow(anomaly_dataset[index, 0].detach().cpu(), origin='lower', vmin=0, vmax=1, cmap='jet')\n",
    "ax[1].imshow(anomalyPrediction[index, 0].detach().cpu(), origin='lower', vmin=0, vmax=1, cmap='jet')\n",
    "ax[2].imshow((anomaly_dataset[index, 0].detach() - anomalyPrediction[index, 0].detach().cpu()) ** 2, origin='lower',\n",
    "             vmin=0, vmax=1, cmap='jet')\n",
    "for i in range(3):\n",
    "    ax[i].axis('off')\n",
    "plt.show()"
   ]
  },
  {
   "cell_type": "markdown",
   "metadata": {},
   "source": [
    "**compute reconstruction error for varying degree of anomaly (i.e., number of squares)**"
   ]
  },
  {
   "cell_type": "code",
   "execution_count": 19,
   "metadata": {},
   "outputs": [],
   "source": [
    "errors = np.zeros((6, len(anomaly_dataset.data)))\n",
    "for degree in range(6):\n",
    "    anomaly_dataset = anomalyDataset(degree)\n",
    "    anomalyPrediction = model(anomaly_dataset.data)\n",
    "    errors[degree] = torch.mean((anomaly_dataset.data - anomalyPrediction) ** 2, dim=(1, 2, 3)).detach().cpu()"
   ]
  },
  {
   "cell_type": "markdown",
   "metadata": {},
   "source": [
    "**histogram of reconstruction errors**"
   ]
  },
  {
   "cell_type": "code",
   "execution_count": 20,
   "metadata": {},
   "outputs": [
    {
     "data": {
      "image/png": "[encoded data removed]",
      "text/plain": [
       "<Figure size 432x288 with 1 Axes>"
      ]
     },
     "metadata": {
      "needs_background": "light"
     },
     "output_type": "display_data"
    }
   ],
   "source": [
    "numberOfBins = 100\n",
    "bins = np.histogram(errors, bins=numberOfBins)[1]\n",
    "fig, ax = plt.subplots()\n",
    "\n",
    "ax.hist(errors[0], bins=bins, color='r', alpha=0.7, label='no squares & 5 circles')\n",
    "ax.hist(errors[1], bins=bins, color='b', alpha=0.7, label='1 square & 4 circles')\n",
    "ax.hist(errors[2], bins=bins, color='gray', alpha=0.7, label='2 squares & 3 circles')\n",
    "ax.hist(errors[3], bins=bins, color='k', alpha=0.7, label='3 squares & 2 circles')\n",
    "ax.hist(errors[4], bins=bins, color='orange', alpha=0.7, label='4 squares & 1 circle')\n",
    "ax.hist(errors[5], bins=bins, color='magenta', alpha=0.7, label='5 squares & no circles')\n",
    "\n",
    "ax.set_xlabel(\"reconstruction error\")\n",
    "ax.set_ylabel(\"number of structures\")\n",
    "\n",
    "legend = ax.legend()\n",
    "fig.tight_layout()\n",
    "plt.show()"
   ]
  }
 ],
 "metadata": {
  "kernelspec": {
   "display_name": "Python 3",
   "language": "python",
   "name": "python3"
  },
  "language_info": {
   "codemirror_mode": {
    "name": "ipython",
    "version": 3
   },
   "file_extension": ".py",
   "mimetype": "text/x-python",
   "name": "python",
   "nbconvert_exporter": "python",
   "pygments_lexer": "ipython3",
   "version": "3.8.10"
  }
 },
 "nbformat": 4,
 "nbformat_minor": 2
}
