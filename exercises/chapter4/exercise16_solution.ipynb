{
 "cells": [
  {
   "cell_type": "markdown",
   "id": "13ba11a8-9964-4b7e-b262-8b631b887188",
   "metadata": {},
   "source": [
    "# Exercise 16 Solution - Physics-Informed Neural Network for a Plate in Membrane Action\n",
    "### Task\n",
    "Implement a physics-informed neural network for a two-dimensional static plate in membrane action\n",
    "1. Implement the displacement prediction function `getDisplacements`, in which a strong enforcement (`strongEnforcementx`, `strongEnforcementy`) is to be applied to the neural network output obtained with `model(input)` using the coordinates stored in `input` in a concatenated manner\n",
    "2. To compute the physics-informed loss, the strains need to be computed. To this end, implement the `getStrains` function by differentiating the displacements `u`\n",
    "3. Implement the physics-informed residual in `getLossTerms`\n",
    "4. Run the training procedure to learn the solution to the plate in membrane problem. Can you improve the solution by adapting the hyperparameters?\n",
    "\n",
    "### Learning goals\n",
    "- Familiarize yourself with two-dimensional implementations of physics-informed neural networks"
   ]
  },
  {
   "cell_type": "markdown",
   "id": "04fc65ef-fdb0-409a-8b58-6ee22a3a38db",
   "metadata": {},
   "source": [
    "**import libraries & set seed**"
   ]
  },
  {
   "cell_type": "code",
   "execution_count": 1,
   "id": "4dfeb949-ac58-4b07-9687-c41064b91f0c",
   "metadata": {
    "ExecuteTime": {
     "end_time": "2024-01-29T14:46:25.186469816Z",
     "start_time": "2024-01-29T14:46:25.124381916Z"
    }
   },
   "outputs": [],
   "source": [
    "import numpy as np\n",
    "import torch\n",
    "from torch.autograd import grad\n",
    "import time\n",
    "import matplotlib.pyplot as plt"
   ]
  },
  {
   "cell_type": "code",
   "execution_count": 2,
   "id": "2fb816c8",
   "metadata": {},
   "outputs": [
    {
     "data": {
      "text/plain": [
       "<torch._C.Generator at 0x7fde51b689d0>"
      ]
     },
     "execution_count": 2,
     "metadata": {},
     "output_type": "execute_result"
    }
   ],
   "source": [
    "torch.manual_seed(2)"
   ]
  },
  {
   "cell_type": "markdown",
   "id": "a287a8dc-3ef0-490c-a549-a4c06474f8b9",
   "metadata": {},
   "source": [
    "## Utilities"
   ]
  },
  {
   "cell_type": "markdown",
   "id": "3837a3c0-c7e6-4750-94d6-07b83721493f",
   "metadata": {},
   "source": [
    "**gradient computation with automatic differentiation**"
   ]
  },
  {
   "cell_type": "code",
   "execution_count": 3,
   "id": "9d9ff7cc-b51d-4a65-b314-06d55506104a",
   "metadata": {
    "ExecuteTime": {
     "end_time": "2024-01-29T14:46:25.190570964Z",
     "start_time": "2024-01-29T14:46:25.176630300Z"
    }
   },
   "outputs": [],
   "source": [
    "def getDerivative(y, x, n):\n",
    "    if n == 0:\n",
    "        return y\n",
    "    else:\n",
    "        dy_dx = grad(y, x, torch.ones(x.shape), create_graph=True, retain_graph=True)[0]\n",
    "        return getDerivative(dy_dx, x, n - 1)"
   ]
  },
  {
   "cell_type": "markdown",
   "id": "3351b4bd-8953-4816-87ac-fd5abb029b75",
   "metadata": {},
   "source": [
    "**neural network**"
   ]
  },
  {
   "cell_type": "code",
   "execution_count": 4,
   "id": "01fa82fc-8100-4a35-9709-9f3ff1272515",
   "metadata": {
    "ExecuteTime": {
     "end_time": "2024-01-29T14:46:25.204080923Z",
     "start_time": "2024-01-29T14:46:25.194337461Z"
    }
   },
   "outputs": [],
   "source": [
    "class NN(torch.nn.Module):\n",
    "    def __init__(\n",
    "        self,\n",
    "        inputDimension,\n",
    "        hiddenDimensions,\n",
    "        outputDimension,\n",
    "        activationFunction=torch.nn.Tanh(),\n",
    "    ):\n",
    "        super().__init__()\n",
    "\n",
    "        modules = []\n",
    "\n",
    "        modules.append(torch.nn.Linear(inputDimension, hiddenDimensions[0]))\n",
    "        modules.append(activationFunction)\n",
    "        for i in range(len(hiddenDimensions) - 1):\n",
    "            modules.append(\n",
    "                torch.nn.Linear(hiddenDimensions[i], hiddenDimensions[i + 1])\n",
    "            )\n",
    "            modules.append(activationFunction)\n",
    "        modules.append(torch.nn.Linear(hiddenDimensions[-1], outputDimension))\n",
    "\n",
    "        self.model = torch.nn.Sequential(*modules)\n",
    "\n",
    "    def forward(self, x):\n",
    "        u = self.model(x)\n",
    "        return u"
   ]
  },
  {
   "cell_type": "markdown",
   "id": "21022e9800868b18",
   "metadata": {},
   "source": [
    "**grid creation**"
   ]
  },
  {
   "cell_type": "code",
   "execution_count": 5,
   "id": "e86ed635f1d54280",
   "metadata": {
    "ExecuteTime": {
     "end_time": "2024-01-29T14:46:25.240158460Z",
     "start_time": "2024-01-29T14:46:25.237545051Z"
    }
   },
   "outputs": [],
   "source": [
    "def getGrid(Lx, Ly, Nx, Ny):\n",
    "    x = torch.linspace(0, Lx, Nx)\n",
    "    y = torch.linspace(0, Ly, Ny)\n",
    "    x, y = torch.meshgrid(x, y, indexing=\"ij\")\n",
    "    x.requires_grad = True\n",
    "    y.requires_grad = True\n",
    "    input = torch.cat((x.reshape(-1, 1), y.reshape(-1, 1)), 1)\n",
    "    return x, y, input"
   ]
  },
  {
   "cell_type": "markdown",
   "id": "ac280a6c-0742-4bf8-b6f2-0995b3680079",
   "metadata": {},
   "source": [
    "## PINN helper functions"
   ]
  },
  {
   "cell_type": "markdown",
   "id": "f551c1ad-ef82-4af5-bc7c-658fb6d16913",
   "metadata": {},
   "source": [
    "**displacement computation**\n",
    "$$\\hat{\\boldsymbol{u}}=(\\hat{u},\\hat{v})^\\intercal=F_{NN}(x)$$"
   ]
  },
  {
   "cell_type": "code",
   "execution_count": 6,
   "id": "21eda658-51ba-47bc-a7ff-ed2bb47c4c42",
   "metadata": {
    "ExecuteTime": {
     "end_time": "2024-01-29T14:46:25.240690754Z",
     "start_time": "2024-01-29T14:46:25.237667412Z"
    }
   },
   "outputs": [],
   "source": [
    "def getDisplacements(model, input, strongEnforcementx, strongEnforcementy):\n",
    "    u = model(input)\n",
    "    ux = strongEnforcementx(u[:, 0], input[:, 0], input[:, 1]).unsqueeze(1)\n",
    "    uy = strongEnforcementy(u[:, 1], input[:, 0], input[:, 1]).unsqueeze(1)\n",
    "    u = torch.cat((ux, uy), 1)\n",
    "    return u  # model(x)"
   ]
  },
  {
   "cell_type": "markdown",
   "id": "1a05d0fe9ea322d1",
   "metadata": {},
   "source": [
    "**strain computation**\n",
    "$$\\boldsymbol{\\varepsilon}=\\begin{pmatrix}\n",
    "\\frac{\\partial u}{\\partial x}\\\\\n",
    "\\frac{\\partial v}{\\partial y}\\\\\n",
    "\\frac{1}{2}(\\frac{\\partial u}{\\partial y} + \\frac{\\partial v}{\\partial x})\n",
    "\\end{pmatrix}\n",
    "$$"
   ]
  },
  {
   "cell_type": "code",
   "execution_count": 7,
   "id": "c0300ee04811642e",
   "metadata": {
    "ExecuteTime": {
     "end_time": "2024-01-29T14:46:25.253124539Z",
     "start_time": "2024-01-29T14:46:25.237717218Z"
    }
   },
   "outputs": [],
   "source": [
    "def getStrains(u, x, y, Nx, Ny):\n",
    "    strain = torch.zeros((3, Nx, Ny))\n",
    "    strain[0] = getDerivative(u[:, 0].reshape(Nx, Ny), x, 1)\n",
    "    strain[1] = getDerivative(u[:, 1].reshape(Nx, Ny), y, 1)\n",
    "    strain[2] = 0.5 * (\n",
    "        getDerivative(u[:, 0].reshape(Nx, Ny), y, 1)\n",
    "        + getDerivative(u[:, 1].reshape(Nx, Ny), x, 1)\n",
    "    )\n",
    "    return strain"
   ]
  },
  {
   "cell_type": "markdown",
   "id": "b9999f25-b7e7-42fa-a1bd-4824a0a32fa3",
   "metadata": {},
   "source": [
    "**loss term computation**\n",
    "\n",
    "stress $$\\boldsymbol{\\sigma}=\\boldsymbol{C}\\boldsymbol{\\varepsilon}$$\n",
    "\n",
    "residual $$\\boldsymbol{r}=\\nabla \\cdot \\boldsymbol{\\sigma} + \\boldsymbol{p}$$\n",
    "\n",
    "residual loss $$\\mathcal{L}_R = \\frac{1}{N}\\sum_i^N \\sum_j^2 (\\hat{\\boldsymbol{r}}_j)^2$$\n",
    "\n",
    "boundary loss (only needs to consider Neumann boundary conditions when using strong enforcement of Dirichlet boundary conditions) $$\\mathcal{L}_B=\\frac{1}{N_{11}}\\sum_i^{N_{11}} (\\hat{\\sigma}_{11}-\\tilde{\\sigma}_{11})^2 + \\frac{1}{N_{22}}\\sum_i^{N_{22}} (\\hat{\\sigma}_{22}-\\tilde{\\sigma}_{22})^2 + \\frac{1}{N_{12}}\\sum_i^{N_{12}} (\\hat{\\sigma}_{12}-\\tilde{\\sigma}_{12})^2$$"
   ]
  },
  {
   "cell_type": "code",
   "execution_count": 8,
   "id": "1b1e36d4-ee7e-4450-8c50-a4ba4fd101e5",
   "metadata": {
    "ExecuteTime": {
     "end_time": "2024-01-29T14:46:25.253818073Z",
     "start_time": "2024-01-29T14:46:25.237762249Z"
    }
   },
   "outputs": [],
   "source": [
    "def getLossTerms(x, y, u, Nx, Ny, C, force):\n",
    "    differentialEquationLoss = 0\n",
    "\n",
    "    strain = getStrains(u, x, y, Nx, Ny)\n",
    "    stress = torch.tensordot(C, strain, dims=1)\n",
    "\n",
    "    dsig11_dx = getDerivative(stress[0], x, 1)\n",
    "    dsig12_dy = getDerivative(stress[2], y, 1)\n",
    "    dsig21_dx = getDerivative(stress[2], x, 1)\n",
    "    dsig22_dy = getDerivative(stress[1], y, 1)\n",
    "\n",
    "    # equilibrium\n",
    "    differentialEquationLoss += torch.sum((dsig11_dx + dsig12_dy) ** 2) / (Nx * Ny)\n",
    "    differentialEquationLoss += torch.sum((dsig21_dx + dsig22_dy) ** 2) / (Nx * Ny)\n",
    "\n",
    "    # initialization\n",
    "    boundaryConditionLoss = 0\n",
    "\n",
    "    # inhomogeneous Neumann boundary conditions\n",
    "    boundaryConditionLoss += torch.sum((stress[0][-1, :] - force) ** 2) / Nx\n",
    "    # homogeneous Neumann boundary conditions still have to be enforced\n",
    "    boundaryConditionLoss += (\n",
    "        torch.sum((stress[1][:, -1] - 0) ** 2) / Nx\n",
    "    )  # normal stress at top edge\n",
    "    boundaryConditionLoss += (\n",
    "        torch.sum((stress[2][:, -1] - 0) ** 2) / Nx\n",
    "    )  # shear stress at top edge\n",
    "    boundaryConditionLoss += (\n",
    "        torch.sum((stress[2][:, 0] - 0) ** 2) / Nx\n",
    "    )  # shear stress at bottom edge\n",
    "    boundaryConditionLoss += (\n",
    "        torch.sum((stress[2][0, :] - 0) ** 2) / Ny\n",
    "    )  # shear stress at left edge\n",
    "    boundaryConditionLoss += (\n",
    "        torch.sum((stress[2][-1, :] - 0) ** 2) / Ny\n",
    "    )  # shear stress at right edge\n",
    "\n",
    "    return differentialEquationLoss, boundaryConditionLoss"
   ]
  },
  {
   "cell_type": "markdown",
   "id": "9d4e7265-83d4-4be6-b5d2-018649c32b21",
   "metadata": {},
   "source": [
    "## Problem setup"
   ]
  },
  {
   "cell_type": "markdown",
   "id": "2957569f-3de2-43dd-9b11-3221bf3d04b9",
   "metadata": {},
   "source": [
    "**physical parameters**"
   ]
  },
  {
   "cell_type": "code",
   "execution_count": 9,
   "id": "f7459465-221f-43d6-8c9f-0d7ff6938496",
   "metadata": {
    "ExecuteTime": {
     "end_time": "2024-01-29T14:46:25.268383812Z",
     "start_time": "2024-01-29T14:46:25.241594269Z"
    }
   },
   "outputs": [],
   "source": [
    "# Problem data\n",
    "Lx = 1\n",
    "Ly = 1\n",
    "\n",
    "E = 1.0\n",
    "nu = 0.3\n",
    "C = torch.zeros((3, 3))\n",
    "C[0, 0] = 1\n",
    "C[0, 1] = nu\n",
    "C[1, 0] = nu\n",
    "C[1, 1] = 1\n",
    "C[2, 2] = 1 - nu\n",
    "C *= E / (1 - nu**2)\n",
    "\n",
    "# Neumann boundary condition on right edge\n",
    "force = 1\n",
    "# Dirichlet boundary conditions through strong enforcement\n",
    "strongEnforcementx = lambda u, x, y: x * u\n",
    "strongEnforcementy = lambda u, x, y: y * u"
   ]
  },
  {
   "cell_type": "markdown",
   "id": "75f533b6-272e-460a-8355-0850025d400f",
   "metadata": {},
   "source": [
    "**hyperparameters**\n",
    "\n",
    "currently Adam is selected as optimizer. By commenting the Adam block and uncommenting the LBFGS block, you can enable LBFGS as optimizer."
   ]
  },
  {
   "cell_type": "code",
   "execution_count": 10,
   "id": "15917078-13cb-4725-9164-cf409ada9530",
   "metadata": {
    "ExecuteTime": {
     "end_time": "2024-01-29T14:46:25.268957210Z",
     "start_time": "2024-01-29T14:46:25.256710423Z"
    }
   },
   "outputs": [],
   "source": [
    "Nx = 10  # number of collocation points in x\n",
    "Ny = 10  # number of collocation points in y\n",
    "hiddenDimensions = [20, 20, 20]\n",
    "activationFunction = torch.nn.SiLU()\n",
    "\n",
    "epochs = 500  # number of epochs\n",
    "lr = 1e-2  # learning rate\n",
    "weightLrFactor = 1e1\n",
    "selectOptimizer = \"Adam\""
   ]
  },
  {
   "cell_type": "markdown",
   "id": "b309db2e-aa72-4e72-bbd5-0d1df04fa0bf",
   "metadata": {},
   "source": [
    "**neural network & optimizer setup**"
   ]
  },
  {
   "cell_type": "code",
   "execution_count": 11,
   "id": "7e66f248-a5c1-4ca7-8552-41ffbe2e7828",
   "metadata": {
    "ExecuteTime": {
     "end_time": "2024-01-29T14:46:25.318770859Z",
     "start_time": "2024-01-29T14:46:25.268729472Z"
    }
   },
   "outputs": [],
   "source": [
    "model = NN(2, hiddenDimensions, 2, activationFunction)\n",
    "optimizer = torch.optim.Adam(model.parameters(), lr)\n",
    "\n",
    "weights = torch.ones(2)\n",
    "weights.requires_grad = True\n",
    "optimizer.add_param_group({\"params\": weights})\n",
    "optimizer.param_groups[-1][\"lr\"] = lr * weightLrFactor"
   ]
  },
  {
   "cell_type": "markdown",
   "id": "7c2fddfc-395b-4339-bebe-6558fde75679",
   "metadata": {},
   "source": [
    "**training grid**"
   ]
  },
  {
   "cell_type": "code",
   "execution_count": 12,
   "id": "e8609cae-76eb-450e-9b84-75a69068c7a0",
   "metadata": {
    "ExecuteTime": {
     "end_time": "2024-01-29T14:46:25.320071007Z",
     "start_time": "2024-01-29T14:46:25.311468062Z"
    }
   },
   "outputs": [],
   "source": [
    "x, y, input = getGrid(Lx, Ly, Nx, Ny)"
   ]
  },
  {
   "cell_type": "markdown",
   "id": "cc5f755e-e923-49d3-954c-bf09cd8ee74d",
   "metadata": {},
   "source": [
    "## Training"
   ]
  },
  {
   "cell_type": "markdown",
   "id": "c199461d",
   "metadata": {},
   "source": [
    "**cost function**\n",
    "$$C=\\kappa_R\\mathcal{L}_R + \\kappa_B\\mathcal{L}_B$$"
   ]
  },
  {
   "cell_type": "code",
   "execution_count": 13,
   "id": "77a11a8d5e28c258",
   "metadata": {
    "ExecuteTime": {
     "end_time": "2024-01-29T14:46:47.560815877Z",
     "start_time": "2024-01-29T14:46:37.045718994Z"
    }
   },
   "outputs": [
    {
     "name": "stdout",
     "output_type": "stream",
     "text": [
      "Epoch: 0/500\t\tDifferential equation cost = 3.64e-04\t\tBoundary condition cost = 5.12e-01\t\tTotal cost = 5.12e-01\t\tElapsed time = 0.000491\n",
      "Epoch: 50/500\t\tDifferential equation cost = 1.18e-05\t\tBoundary condition cost = 2.06e-04\t\tTotal cost = 2.17e-04\t\tElapsed time = 0.017507\n",
      "Epoch: 100/500\t\tDifferential equation cost = 1.35e-06\t\tBoundary condition cost = 3.84e-06\t\tTotal cost = 5.19e-06\t\tElapsed time = 0.015442\n",
      "Epoch: 150/500\t\tDifferential equation cost = 5.90e-07\t\tBoundary condition cost = 1.16e-06\t\tTotal cost = 1.75e-06\t\tElapsed time = 0.014726\n",
      "Epoch: 200/500\t\tDifferential equation cost = 3.34e-07\t\tBoundary condition cost = 5.74e-07\t\tTotal cost = 9.08e-07\t\tElapsed time = 0.015794\n",
      "Epoch: 250/500\t\tDifferential equation cost = 2.12e-07\t\tBoundary condition cost = 3.01e-07\t\tTotal cost = 5.13e-07\t\tElapsed time = 0.017776\n",
      "Epoch: 300/500\t\tDifferential equation cost = 1.54e-07\t\tBoundary condition cost = 1.78e-07\t\tTotal cost = 3.32e-07\t\tElapsed time = 0.014853\n",
      "Epoch: 350/500\t\tDifferential equation cost = 1.24e-07\t\tBoundary condition cost = 1.19e-07\t\tTotal cost = 2.43e-07\t\tElapsed time = 0.015385\n",
      "Epoch: 400/500\t\tDifferential equation cost = 1.08e-07\t\tBoundary condition cost = 8.45e-08\t\tTotal cost = 1.93e-07\t\tElapsed time = 0.017589\n",
      "Epoch: 450/500\t\tDifferential equation cost = 9.82e-08\t\tBoundary condition cost = 6.12e-08\t\tTotal cost = 1.59e-07\t\tElapsed time = 0.019279\n",
      "Total elapsed time: 8.253900\n",
      "Average elapsed time per epoch: 0.016508\n"
     ]
    }
   ],
   "source": [
    "differentialEquationLossHistory = np.zeros(epochs)\n",
    "boundaryConditionLossHistory = np.zeros(epochs)\n",
    "costHistory = np.zeros(epochs)\n",
    "start = time.perf_counter()\n",
    "start0 = start\n",
    "for epoch in range(epochs):\n",
    "    optimizer.zero_grad()\n",
    "    uPred = getDisplacements(model, input, strongEnforcementx, strongEnforcementy)\n",
    "\n",
    "    lossTerms = getLossTerms(x, y, uPred, Nx, Ny, C, force)\n",
    "\n",
    "    cost = weights[0] * lossTerms[0] + weights[1] * lossTerms[1]\n",
    "\n",
    "    cost.backward()\n",
    "    weights.grad *= -1\n",
    "\n",
    "    optimizer.step()\n",
    "\n",
    "    differentialEquationLossHistory[epoch] = lossTerms[0].detach()\n",
    "    boundaryConditionLossHistory[epoch] = lossTerms[1].detach()\n",
    "    costHistory[epoch] = lossTerms[0].detach() + lossTerms[1].detach()\n",
    "\n",
    "    if epoch % 50 == 0:\n",
    "        elapsedTime = (time.perf_counter() - start) / 50\n",
    "        string = \"Epoch: {}/{}\\t\\tDifferential equation cost = {:.2e}\\t\\tBoundary condition cost = {:.2e}\\t\\tTotal cost = {:.2e}\\t\\tElapsed time = {:2f}\"\n",
    "        print(\n",
    "            string.format(\n",
    "                epoch,\n",
    "                epochs,\n",
    "                differentialEquationLossHistory[epoch],\n",
    "                boundaryConditionLossHistory[epoch],\n",
    "                costHistory[epoch],\n",
    "                elapsedTime,\n",
    "            )\n",
    "        )\n",
    "        start = time.perf_counter()\n",
    "elapsedTime = time.perf_counter() - start0\n",
    "string = \"Total elapsed time: {:2f}\\nAverage elapsed time per epoch: {:2f}\"\n",
    "print(string.format(elapsedTime, elapsedTime / epochs))"
   ]
  },
  {
   "cell_type": "markdown",
   "id": "42e63a9d-ea31-4930-90bb-b429637ca35c",
   "metadata": {},
   "source": [
    "## Post-processing"
   ]
  },
  {
   "cell_type": "markdown",
   "id": "44b677c7-9d31-4451-8562-8aa347e04726",
   "metadata": {},
   "source": [
    "**training history**"
   ]
  },
  {
   "cell_type": "code",
   "execution_count": 14,
   "id": "77a6c235-0210-40aa-a4d4-b93afc51989f",
   "metadata": {
    "ExecuteTime": {
     "end_time": "2024-01-29T14:46:48.116622673Z",
     "start_time": "2024-01-29T14:46:47.564363806Z"
    }
   },
   "outputs": [
    {
     "data": {
      "image/png": "[encoded data removed]",
      "text/plain": [
       "<Figure size 432x288 with 1 Axes>"
      ]
     },
     "metadata": {
      "needs_background": "light"
     },
     "output_type": "display_data"
    }
   ],
   "source": [
    "fig, ax = plt.subplots()\n",
    "ax.plot(costHistory, \"k\", label=\"cost\")\n",
    "ax.plot(differentialEquationLossHistory, \"r:\", label=\"differential equation loss\")\n",
    "ax.plot(boundaryConditionLossHistory, \"b:\", label=\"boundary condition loss\")\n",
    "ax.set_yscale(\"log\")\n",
    "ax.grid()\n",
    "ax.legend()\n",
    "plt.show()"
   ]
  },
  {
   "cell_type": "markdown",
   "id": "954f6de0-2ef2-4c1d-bad3-714c954ac14f",
   "metadata": {},
   "source": [
    "**displacement prediction**"
   ]
  },
  {
   "cell_type": "code",
   "execution_count": 18,
   "id": "5cd55fa0-2d9e-4e79-be43-3f4164db12ae",
   "metadata": {
    "ExecuteTime": {
     "end_time": "2024-01-29T14:46:48.476606887Z",
     "start_time": "2024-01-29T14:46:48.121624160Z"
    }
   },
   "outputs": [
    {
     "data": {
      "image/png": "[encoded data removed]",
      "text/plain": [
       "<Figure size 432x288 with 2 Axes>"
      ]
     },
     "metadata": {
      "needs_background": "light"
     },
     "output_type": "display_data"
    },
    {
     "data": {
      "image/png": "[encoded data removed]",
      "text/plain": [
       "<Figure size 432x288 with 2 Axes>"
      ]
     },
     "metadata": {
      "needs_background": "light"
     },
     "output_type": "display_data"
    }
   ],
   "source": [
    "Nx_ = 100\n",
    "Ny_ = 100\n",
    "x_, y_, input_ = getGrid(Lx, Ly, Nx_, Ny_)\n",
    "\n",
    "upred_ = getDisplacements(model, input_, strongEnforcementx, strongEnforcementy)\n",
    "strain_ = getStrains(upred_, x_, y_, Nx_, Ny_)\n",
    "\n",
    "fig, ax = plt.subplots()\n",
    "cp = ax.pcolormesh(\n",
    "    x_.detach(), y_.detach(), upred_[:, 0].reshape(Nx_, Ny_).detach(), cmap=plt.cm.jet, shading='auto'\n",
    ")\n",
    "fig.colorbar(cp)\n",
    "ax.plot(x.detach(), y.detach(), \"k.\")\n",
    "plt.gca().set_aspect(\"equal\", adjustable=\"box\")\n",
    "ax.set_title(\"$u$\")\n",
    "plt.show()\n",
    "\n",
    "fig, ax = plt.subplots()\n",
    "cp = ax.pcolormesh(\n",
    "    x_.detach(), y_.detach(), upred_[:, 1].reshape(Nx_, Ny_).detach(), cmap=plt.cm.jet, shading='auto'\n",
    ")\n",
    "fig.colorbar(cp)\n",
    "ax.plot(x.detach(), y.detach(), \"k.\")\n",
    "plt.gca().set_aspect(\"equal\", adjustable=\"box\")\n",
    "ax.set_title(\"$v$\")\n",
    "plt.show()"
   ]
  }
 ],
 "metadata": {
  "kernelspec": {
   "display_name": "Python 3",
   "language": "python",
   "name": "python3"
  },
  "language_info": {
   "codemirror_mode": {
    "name": "ipython",
    "version": 3
   },
   "file_extension": ".py",
   "mimetype": "text/x-python",
   "name": "python",
   "nbconvert_exporter": "python",
   "pygments_lexer": "ipython3",
   "version": "3.8.10"
  }
 },
 "nbformat": 4,
 "nbformat_minor": 5
}
